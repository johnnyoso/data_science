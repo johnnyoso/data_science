{
 "cells": [
  {
   "cell_type": "code",
   "execution_count": 1,
   "id": "1c9832a4",
   "metadata": {
    "tags": []
   },
   "outputs": [],
   "source": [
    "import json\n",
    "import requests\n",
    "import re\n",
    "from IPython import display\n",
    "from datetime import datetime\n",
    "import firebase_admin\n",
    "from firebase_admin import credentials\n",
    "from firebase_admin import firestore\n",
    "import pandas as pd\n",
    "import openpyxl"
   ]
  },
  {
   "cell_type": "code",
   "execution_count": 2,
   "id": "deb755b0",
   "metadata": {},
   "outputs": [],
   "source": [
    "FIREBASE_PRIVATE_KEY = r'C:\\Users\\johnp\\Documents\\ESportsAnalytics\\esportsanalytics-3b04cf0c1d47.json'\n",
    "BASE_URL = 'https://api.opendota.com/api/'\n",
    "TEAMS = 'teams'\n",
    "HEROES = 'heroes'\n",
    "PROPLAYERS = 'proPlayers'\n",
    "PROMATCHES = 'proMatches'\n",
    "MATCHES = 'matches'\n",
    "PLAYERS = 'players'\n",
    "HEROES_STATS = 'heroStats'\n"
   ]
  },
  {
   "cell_type": "code",
   "execution_count": 3,
   "id": "302bb65d",
   "metadata": {},
   "outputs": [],
   "source": [
    "# Connect to Firebase and return a database instance\n",
    "def connecttofirebase(PATH):\n",
    "    \n",
    "    # Check if the app is already initialised, if not then connect\n",
    "    if not firebase_admin._apps:\n",
    "        cred = credentials.Certificate(FIREBASE_PRIVATE_KEY)\n",
    "        firebase_admin.initialize_app(cred)\n",
    "    \n",
    "    # Get an instance of the project database\n",
    "    db = firestore.client()\n",
    "    \n",
    "    return db"
   ]
  },
  {
   "cell_type": "code",
   "execution_count": 4,
   "id": "4faad929",
   "metadata": {},
   "outputs": [],
   "source": [
    "db = connecttofirebase(FIREBASE_PRIVATE_KEY)"
   ]
  },
  {
   "cell_type": "code",
   "execution_count": 5,
   "id": "9faa2efc",
   "metadata": {},
   "outputs": [
    {
     "data": {
      "text/plain": [
       "'esportsanalytics'"
      ]
     },
     "execution_count": 5,
     "metadata": {},
     "output_type": "execute_result"
    }
   ],
   "source": [
    "db.project"
   ]
  },
  {
   "cell_type": "markdown",
   "id": "38bf4894-2342-4551-9646-6f048e80118f",
   "metadata": {},
   "source": [
    "# Data Extraction"
   ]
  },
  {
   "cell_type": "code",
   "execution_count": 6,
   "id": "9cf8925a-9ac7-4c98-bc13-8a2d52d09e20",
   "metadata": {
    "tags": []
   },
   "outputs": [],
   "source": [
    "def get_all_teams_from_firebase():\n",
    "    \n",
    "     # get the data from Firebase\n",
    "    doc_ref = db.collection(u'dota').document(u'all_teams')\n",
    "    doc = doc_ref.get()\n",
    "    \n",
    "    # get the upload time from Firebase\n",
    "    datetime_upload_str = doc.to_dict()['date_time_upload']\n",
    "    datetime_upload = datetime.strptime(datetime_upload_str, \"%m/%d/%Y, %H:%M:%S\")\n",
    "\n",
    "    # subtracting two datetime objects result in a datetime.timedelta object\n",
    "    data_age_timedelta = datetime.now() - datetime_upload\n",
    "    data_age_in_days = data_age_timedelta.total_seconds() / 86400\n",
    "    \n",
    "    print('Data is:', data_age_in_days, 'old')\n",
    "    \n",
    "    # Get the data from Firebase\n",
    "    team_data_json = doc.to_dict()['all_teams_info']\n",
    "    \n",
    "    return team_data_json"
   ]
  },
  {
   "cell_type": "code",
   "execution_count": 7,
   "id": "1c5d2455-a8a0-4b3d-80ed-d36ca6fe6288",
   "metadata": {
    "tags": []
   },
   "outputs": [],
   "source": [
    "def get_all_teams_from_opendota():\n",
    "    \n",
    "    response = requests.get(BASE_URL + TEAMS)\n",
    "\n",
    "    try:\n",
    "        team_data_json = json.loads(response.content.decode('utf-8'))\n",
    "\n",
    "    except requests.exceptions.Timeout:\n",
    "        print('request is taking too long to complete, possible timeout, getting old data from Firebase')\n",
    "\n",
    "    except requests.exceptions.RequestException as e:\n",
    "        raise SystemExit(e)\n",
    "    \n",
    "    else:\n",
    "        return team_data_json\n",
    "    \n",
    "    return 0"
   ]
  },
  {
   "cell_type": "code",
   "execution_count": 8,
   "id": "7a11098c-2ebc-439e-bcc5-50eb8ddc0282",
   "metadata": {
    "tags": []
   },
   "outputs": [],
   "source": [
    "def update_all_teams_in_firebase():\n",
    "    \n",
    "    response = requests.get(BASE_URL + TEAMS)\n",
    "\n",
    "    try:\n",
    "        team_data_json = json.loads(response.content.decode('utf-8'))\n",
    "\n",
    "    except requests.exceptions.Timeout:\n",
    "        print('request is taking too long to complete, possible timeout, getting old data from Firebase')\n",
    "\n",
    "    except requests.exceptions.RequestException as e:\n",
    "        raise SystemExit(e)\n",
    "\n",
    "    else:\n",
    "        # upload the team_data_json in Firebase if there are no errors\n",
    "        data = {\n",
    "            u'date_time_upload' : datetime.now().strftime(\"%m/%d/%Y, %H:%M:%S\"),\n",
    "            u'all_teams_info' : team_data_json\n",
    "        }\n",
    "\n",
    "        db.collection(u'dota').document(u'all_teams').set(data)\n",
    "        print(\"All Teams data updated in Firebase\")"
   ]
  },
  {
   "cell_type": "code",
   "execution_count": 9,
   "id": "0164c049-2906-408e-aa21-5272ea340621",
   "metadata": {
    "tags": []
   },
   "outputs": [],
   "source": [
    "# Save the JSON as a file in the working directory\n",
    "def save_all_teams_data_to_file(all_teams_data_json):\n",
    "    \n",
    "    with open('all_teams_data.json', 'w', encoding='utf-8') as f:\n",
    "        json.dump(all_teams_data_json, f, ensure_ascii=False, indent=4)"
   ]
  },
  {
   "cell_type": "code",
   "execution_count": 10,
   "id": "a02f1f77-0711-4a3c-8e75-ea2fb3a8555a",
   "metadata": {
    "tags": []
   },
   "outputs": [],
   "source": [
    "def get_all_heroes_from_firebase():\n",
    "    \n",
    "    # get the data from Firebase\n",
    "    doc_ref = db.collection(u'dota').document(u'all_heroes')\n",
    "    doc = doc_ref.get()\n",
    "    \n",
    "    # get the upload time from Firebase\n",
    "    datetime_upload_str = doc.to_dict()['date_time_upload']\n",
    "    datetime_upload = datetime.strptime(datetime_upload_str, \"%m/%d/%Y, %H:%M:%S\")\n",
    "\n",
    "    # subtracting two datetime objects result in a datetime.timedelta object\n",
    "    data_age_timedelta = datetime.now() - datetime_upload\n",
    "    data_age_in_days = data_age_timedelta.total_seconds() / 86400\n",
    "    \n",
    "    print('Data is:', data_age_in_days, 'old')\n",
    "    \n",
    "    # Get the data from Firebase\n",
    "    heroes_data_json = doc.to_dict()['all_heroes_info']\n",
    "    \n",
    "    return heroes_data_json"
   ]
  },
  {
   "cell_type": "code",
   "execution_count": 11,
   "id": "33f690bb-b45c-4cc3-b0d1-b1de44f18759",
   "metadata": {
    "tags": []
   },
   "outputs": [],
   "source": [
    "def get_all_heroes_from_opendota():\n",
    "    response = requests.get(BASE_URL + HEROES)\n",
    "\n",
    "    try:\n",
    "        heroes_data_json = json.loads(response.content.decode('utf-8'))\n",
    "\n",
    "    except requests.exceptions.Timeout:\n",
    "        print('request is taking too long to complete, possible timeout, getting old data from Firebase')\n",
    "\n",
    "    except requests.exceptions.RequestException as e:\n",
    "        raise SystemExit(e)\n",
    "    \n",
    "    else:\n",
    "        return heroes_data_json\n",
    "    \n",
    "    return 0"
   ]
  },
  {
   "cell_type": "code",
   "execution_count": 12,
   "id": "235702b5-779f-4083-85c9-bfbf09cdb101",
   "metadata": {
    "tags": []
   },
   "outputs": [],
   "source": [
    "def update_all_heroes_in_firebase():\n",
    "    \n",
    "    response = requests.get(BASE_URL + HEROES)\n",
    "\n",
    "    try:\n",
    "        heroes_data_json = json.loads(response.content.decode('utf-8'))\n",
    "\n",
    "    except requests.exceptions.Timeout:\n",
    "        print('request is taking too long to complete, possible timeout, getting old data from Firebase')\n",
    "\n",
    "    except requests.exceptions.RequestException as e:\n",
    "        raise SystemExit(e)\n",
    "\n",
    "    else:\n",
    "        # upload the team_data_json in Firebase if there are no errors\n",
    "        data = {\n",
    "            u'date_time_upload' : datetime.now().strftime(\"%m/%d/%Y, %H:%M:%S\"),\n",
    "            u'all_teams_info' : heroes_data_json\n",
    "        }\n",
    "\n",
    "        db.collection(u'dota').document(u'all_heroes').set(data)\n",
    "        print(\"All Heroes data updated in Firebase\")"
   ]
  },
  {
   "cell_type": "code",
   "execution_count": 13,
   "id": "2c23f8a4-3eb9-414f-a67a-cc560c6419fa",
   "metadata": {
    "tags": []
   },
   "outputs": [],
   "source": [
    "# Save the JSON as a file in the working directory\n",
    "def save_all_heroes_data_to_file(all_heroes_data_json):\n",
    "    \n",
    "    with open('all_heroes_data.json', 'w', encoding='utf-8') as f:\n",
    "        json.dump(all_heroes_data_json, f, ensure_ascii=False, indent=4)"
   ]
  },
  {
   "cell_type": "code",
   "execution_count": 14,
   "id": "7c4a1dc4-76de-49b9-a9ed-d1189876dc69",
   "metadata": {
    "tags": []
   },
   "outputs": [],
   "source": [
    "def get_all_pro_players_in_opendota():\n",
    "    \n",
    "    response = requests.get(BASE_URL + PROPLAYERS)\n",
    "\n",
    "    try:\n",
    "        all_pro_players_data_json = json.loads(response.content.decode('utf-8'))\n",
    "\n",
    "    except requests.exceptions.Timeout:\n",
    "        print('request is taking too long to complete, possible timeout, getting old data from Firebase')\n",
    "\n",
    "    except requests.exceptions.RequestException as e:\n",
    "        raise SystemExit(e)\n",
    "        \n",
    "    else:\n",
    "        return all_pro_players_data_json\n",
    "    \n",
    "    return 0"
   ]
  },
  {
   "cell_type": "code",
   "execution_count": 15,
   "id": "50fc753e-920e-41b6-9873-f998c2ee8dcf",
   "metadata": {
    "tags": []
   },
   "outputs": [],
   "source": [
    "def get_all_pro_players_in_firebase():\n",
    "    all_pro_players_data_json = []\n",
    "    \n",
    "    firebase_doc_list = [\n",
    "        u'all_pro_players_1',\n",
    "        u'all_pro_players_2',\n",
    "        u'all_pro_players_3'\n",
    "    ]\n",
    "    \n",
    "    for index, item in enumerate(firebase_doc_list):\n",
    "        \n",
    "        doc_ref = db.collection(u'dota').document(item)\n",
    "        doc = doc_ref.get()\n",
    "        \n",
    "        # Get the data from Firebase\n",
    "        all_pro_players_data_json += doc.to_dict()['all_pro_players_info_'+str(index+1)]\n",
    "    \n",
    "    return all_pro_players_data_json"
   ]
  },
  {
   "cell_type": "code",
   "execution_count": 16,
   "id": "d8354555-fe52-4614-ad47-27a7a7e47f65",
   "metadata": {
    "tags": []
   },
   "outputs": [],
   "source": [
    "def update_all_pro_players_in_firebase():\n",
    "\n",
    "    # Do these if data doesn't exist yet or is not up to date\n",
    "    response = requests.get(BASE_URL + PROPLAYERS)\n",
    "\n",
    "    try:\n",
    "        pro_players_data_json = json.loads(response.content.decode('utf-8'))\n",
    "\n",
    "    except requests.exceptions.Timeout:\n",
    "        print('request is taking too long to complete, possible timeout, getting old data from Firebase')\n",
    "\n",
    "    except requests.exceptions.RequestException as e:\n",
    "        raise SystemExit(e)\n",
    "\n",
    "    else:\n",
    "\n",
    "        pro_players_split = [\n",
    "            {u'all_pro_players_info_1' : pro_players_data_json[0:1000], u'date_time_upload' : datetime.now().strftime(\"%m/%d/%Y, %H:%M:%S\"),},\n",
    "            {u'all_pro_players_info_2' : pro_players_data_json[1000:2000], u'date_time_upload' : datetime.now().strftime(\"%m/%d/%Y, %H:%M:%S\"),},\n",
    "            {u'all_pro_players_info_3' : pro_players_data_json[2000:], u'date_time_upload' : datetime.now().strftime(\"%m/%d/%Y, %H:%M:%S\"),},\n",
    "\n",
    "        ]\n",
    "\n",
    "        for index, data in enumerate(pro_players_split):\n",
    "            pro_players_ref = db.collection(u'dota').document(u'all_pro_players_'+str(index+1)).set(data)\n",
    "\n",
    "        print(\"All Pro Players data updated in Firebase\")\n",
    "    "
   ]
  },
  {
   "cell_type": "code",
   "execution_count": 17,
   "id": "e27e6dbb-0038-4768-9b61-f90577c6c545",
   "metadata": {
    "tags": []
   },
   "outputs": [],
   "source": [
    "# Save the JSON as a file in the working directory\n",
    "def save_all_pro_players_data_to_file(all_pro_players_data_json):\n",
    "    \n",
    "    with open('all_pro_players_data.json', 'w', encoding='utf-8') as f:\n",
    "        json.dump(all_pro_players_data_json, f, ensure_ascii=False, indent=4)"
   ]
  },
  {
   "cell_type": "code",
   "execution_count": 18,
   "id": "87b6a2bf-dff2-408f-838c-2f2e01a5d69b",
   "metadata": {},
   "outputs": [],
   "source": [
    "def get_opendota_api_info():\n",
    "    \n",
    "    response = requests.get(BASE_URL)\n",
    "\n",
    "    try:\n",
    "        opendota_api_data_json = json.loads(response.content.decode('utf-8'))\n",
    "\n",
    "    except requests.exceptions.Timeout:\n",
    "        print('request is taking too long to complete, possible timeout, getting old data from Firebase')\n",
    "\n",
    "    except requests.exceptions.RequestException as e:\n",
    "        raise SystemExit(e)\n",
    "        \n",
    "    else:\n",
    "        return opendota_api_data_json\n",
    "    \n",
    "    return 0"
   ]
  },
  {
   "cell_type": "code",
   "execution_count": 19,
   "id": "5511624e-2b7e-42bd-8674-561450132e7f",
   "metadata": {},
   "outputs": [],
   "source": [
    "def get_match_info(match_id):\n",
    "    response = requests.get(BASE_URL + MATCHES + '/' + str(match_id))\n",
    "\n",
    "    try:\n",
    "        match_info_json = json.loads(response.content.decode('utf-8'))\n",
    "\n",
    "    except requests.exceptions.Timeout:\n",
    "        print('request is taking too long to complete, possible timeout, getting old data from Firebase')\n",
    "\n",
    "    except requests.exceptions.RequestException as e:\n",
    "        raise SystemExit(e)\n",
    "        \n",
    "    else:\n",
    "        return match_info_json\n",
    "    \n",
    "    return 0"
   ]
  },
  {
   "cell_type": "code",
   "execution_count": 20,
   "id": "8dde5ef7-5ade-486f-b464-22b75fb48f4a",
   "metadata": {},
   "outputs": [],
   "source": [
    "def get_all_heroes_stats():\n",
    "    response = requests.get(BASE_URL + HEROES_STATS)\n",
    "\n",
    "    try:\n",
    "        all_heroes_stats_data_json = json.loads(response.content.decode('utf-8'))\n",
    "\n",
    "    except requests.exceptions.Timeout:\n",
    "        print('request is taking too long to complete, possible timeout, getting old data from Firebase')\n",
    "\n",
    "    except requests.exceptions.RequestException as e:\n",
    "        raise SystemExit(e)\n",
    "        \n",
    "    else:\n",
    "        return all_heroes_stats_data_json\n",
    "    \n",
    "    return 0"
   ]
  },
  {
   "cell_type": "markdown",
   "id": "43ddc606-3d2e-4600-8e2b-1ffd326ea497",
   "metadata": {},
   "source": [
    "# Data Search"
   ]
  },
  {
   "cell_type": "code",
   "execution_count": 21,
   "id": "a37aacd3-17dd-4982-962d-ac13489e1af1",
   "metadata": {},
   "outputs": [],
   "source": [
    "def search_regex(search_string, name_from_list):\n",
    "    try:\n",
    "        x = re.search(search_string, name_from_list, re.IGNORECASE).group()\n",
    "    except Exception:\n",
    "        return False\n",
    "    return x"
   ]
  },
  {
   "cell_type": "code",
   "execution_count": 22,
   "id": "b3083155-2141-4bd3-9f8d-66a99632531c",
   "metadata": {},
   "outputs": [],
   "source": [
    "def search_item(item_to_search, item_key, data_source):\n",
    "    item_filter =  filter(lambda y: search_regex(item_to_search, y[item_key]), data_source)\n",
    "    return [item_info for item_info in item_filter]"
   ]
  },
  {
   "cell_type": "code",
   "execution_count": 23,
   "id": "0ba477b7-cf25-4d3c-9961-ee7bfb5050c5",
   "metadata": {},
   "outputs": [],
   "source": [
    "all_teams = get_all_teams_from_opendota()"
   ]
  },
  {
   "cell_type": "code",
   "execution_count": 24,
   "id": "4fe417c7-7b43-42d5-a40b-82479151f588",
   "metadata": {},
   "outputs": [
    {
     "data": {
      "text/plain": [
       "{'team_id': 350190,\n",
       " 'rating': 1403.13,\n",
       " 'wins': 1153,\n",
       " 'losses': 845,\n",
       " 'last_match_time': 1661607736,\n",
       " 'name': 'Fnatic',\n",
       " 'tag': 'Fnatic',\n",
       " 'logo_url': 'https://steamcdn-a.akamaihd.net/apps/dota2/images/team_logos/350190.png'}"
      ]
     },
     "execution_count": 24,
     "metadata": {},
     "output_type": "execute_result"
    }
   ],
   "source": [
    "x = search_item('fnatic', 'name', all_teams)\n",
    "x[0]"
   ]
  },
  {
   "cell_type": "code",
   "execution_count": 25,
   "id": "6b2b5cb0-1884-4fef-8535-7d3214860bb3",
   "metadata": {},
   "outputs": [],
   "source": [
    "def get_team_matches(team_id):\n",
    "    \n",
    "    response = requests.get(BASE_URL + TEAMS + '/' + str(team_id) + '/' + MATCHES)\n",
    "    print(response)\n",
    "\n",
    "    try:\n",
    "        team_data_json = json.loads(response.content.decode('utf-8'))\n",
    "\n",
    "    except requests.exceptions.Timeout:\n",
    "        print('request is taking too long to complete, possible timeout, getting old data from Firebase')\n",
    "\n",
    "    except requests.exceptions.RequestException as e:\n",
    "        raise SystemExit(e)\n",
    "    \n",
    "    else:\n",
    "        return team_data_json\n",
    "    \n",
    "    return 0"
   ]
  },
  {
   "cell_type": "code",
   "execution_count": 26,
   "id": "83244323-4c27-412b-ae70-3944780507a0",
   "metadata": {},
   "outputs": [
    {
     "name": "stdout",
     "output_type": "stream",
     "text": [
      "<Response [200]>\n"
     ]
    }
   ],
   "source": [
    "team_fnatic_matches = get_team_matches(350190)"
   ]
  },
  {
   "cell_type": "code",
   "execution_count": 27,
   "id": "e4fd55eb-fd2d-474b-81cb-2a2d72988c8b",
   "metadata": {},
   "outputs": [
    {
     "data": {
      "text/plain": [
       "2081"
      ]
     },
     "execution_count": 27,
     "metadata": {},
     "output_type": "execute_result"
    }
   ],
   "source": [
    "len(team_fnatic_matches)"
   ]
  },
  {
   "cell_type": "code",
   "execution_count": 28,
   "id": "f832bcae-5307-4640-89da-35f8e4a593b2",
   "metadata": {},
   "outputs": [
    {
     "name": "stdout",
     "output_type": "stream",
     "text": [
      "<Response [200]>\n"
     ]
    }
   ],
   "source": [
    "team_og_matches = get_team_matches(2586976)"
   ]
  },
  {
   "cell_type": "code",
   "execution_count": 79,
   "id": "45e7239e-b49c-404f-85c1-1663bfcb0c6d",
   "metadata": {},
   "outputs": [
    {
     "data": {
      "text/plain": [
       "{'match_id': 6728572058,\n",
       " 'radiant_win': True,\n",
       " 'radiant': True,\n",
       " 'duration': 2455,\n",
       " 'start_time': 1661683040,\n",
       " 'leagueid': 14388,\n",
       " 'league_name': 'ESL One Malaysia 2022 powered by Intel',\n",
       " 'cluster': 155,\n",
       " 'opposing_team_id': 6209166,\n",
       " 'opposing_team_name': 'Team Aster',\n",
       " 'opposing_team_logo': 'https://steamusercontent-a.akamaihd.net/ugc/1629730253163462144/FEF15B2B4528E81103DD693E37FD7B6C9BE6B471/'}"
      ]
     },
     "execution_count": 79,
     "metadata": {},
     "output_type": "execute_result"
    }
   ],
   "source": [
    "team_og_matches[0]"
   ]
  },
  {
   "cell_type": "markdown",
   "id": "61fb38ee-5400-415c-b051-dffb18bfb888",
   "metadata": {},
   "source": [
    "with open('team_og_matches.json', 'w', encoding='utf-8') as f:\n",
    "    json.dump(team_og_matches, f, ensure_ascii=False, indent=4)"
   ]
  },
  {
   "cell_type": "code",
   "execution_count": 30,
   "id": "a7fa8954-9ff2-48bd-88ac-32524e20b52c",
   "metadata": {},
   "outputs": [],
   "source": [
    "all_heroes = get_all_heroes_from_opendota()"
   ]
  },
  {
   "cell_type": "code",
   "execution_count": 31,
   "id": "b4566fac-5ab8-4de2-8680-bc836a132e65",
   "metadata": {},
   "outputs": [],
   "source": [
    "all_pro_players = get_all_pro_players_in_opendota()"
   ]
  },
  {
   "cell_type": "code",
   "execution_count": 32,
   "id": "39ba6a84-5169-405a-af68-a6945283dd84",
   "metadata": {},
   "outputs": [],
   "source": [
    "def match_outcome(radiant_win, radiant):\n",
    "    if ((radiant_win == False and radiant == False) or (radiant_win == True and radiant == True)):\n",
    "        return True\n",
    "    \n",
    "    elif ((radiant_win == True and radiant == False) or (radiant_win == False and radiant == True)):\n",
    "        return False"
   ]
  },
  {
   "cell_type": "code",
   "execution_count": 33,
   "id": "01cb7de6-3971-4875-9bd8-da7189a0f669",
   "metadata": {},
   "outputs": [],
   "source": [
    "# Convert the team matches json to a dataframe\n",
    "def team_matches_df(team_matches_json):\n",
    "    \n",
    "    all_matches_df = pd.DataFrame(data = [(datetime.fromtimestamp(item['start_time']).strftime('%Y-%m-%d %H:%M:%S'), \n",
    "                                                       item['opposing_team_name'],\n",
    "                                                       item['opposing_team_id'], \n",
    "                                                       item['league_name'],\n",
    "                                                       item['leagueid'],\n",
    "                                                       item['cluster'], \n",
    "                                                       item['radiant_win'],\n",
    "                                                       item['radiant'],\n",
    "                                                       item['duration'], \n",
    "                                                       item['match_id'],\n",
    "                                                       match_outcome(item['radiant_win'], item['radiant'])) for item in team_matches_json], \n",
    "                      columns = ['start_date', 'opposing_team_name', 'opposing_team_id', 'league_name', 'leagueid', 'cluster', 'radiant_win', 'radiant', 'duration', 'match_id', 'match_outcome'])\n",
    "    \n",
    "    return all_matches_df\n"
   ]
  },
  {
   "cell_type": "code",
   "execution_count": 34,
   "id": "3d4fef83-7c40-4f7e-af23-6b7c5ff26d25",
   "metadata": {},
   "outputs": [],
   "source": [
    "team_og_matches_df = team_matches_df(team_og_matches)"
   ]
  },
  {
   "cell_type": "code",
   "execution_count": 120,
   "id": "2a366fed-f601-4875-8e55-80eab8ced598",
   "metadata": {},
   "outputs": [],
   "source": [
    "og_v_fnatic_match_info = get_match_info(6728572058)"
   ]
  },
  {
   "cell_type": "code",
   "execution_count": 121,
   "id": "bc93e45c-3be1-4869-a878-7b27ee977d24",
   "metadata": {},
   "outputs": [
    {
     "data": {
      "text/plain": [
       "46"
      ]
     },
     "execution_count": 121,
     "metadata": {},
     "output_type": "execute_result"
    }
   ],
   "source": [
    "len(og_v_fnatic_match_info)"
   ]
  },
  {
   "cell_type": "code",
   "execution_count": 122,
   "id": "41b7373b-f798-45c4-8f4b-89d2f26b4231",
   "metadata": {},
   "outputs": [
    {
     "name": "stdout",
     "output_type": "stream",
     "text": [
      "match_id\n",
      "barracks_status_dire\n",
      "barracks_status_radiant\n",
      "chat\n",
      "cluster\n",
      "cosmetics\n",
      "dire_score\n",
      "dire_team_id\n",
      "draft_timings\n",
      "duration\n",
      "engine\n",
      "first_blood_time\n",
      "game_mode\n",
      "human_players\n",
      "leagueid\n",
      "lobby_type\n",
      "match_seq_num\n",
      "negative_votes\n",
      "objectives\n",
      "picks_bans\n",
      "positive_votes\n",
      "radiant_gold_adv\n",
      "radiant_score\n",
      "radiant_team_id\n",
      "radiant_win\n",
      "radiant_xp_adv\n",
      "skill\n",
      "start_time\n",
      "teamfights\n",
      "tower_status_dire\n",
      "tower_status_radiant\n",
      "version\n",
      "replay_salt\n",
      "series_id\n",
      "series_type\n",
      "league\n",
      "radiant_team\n",
      "dire_team\n",
      "players\n",
      "patch\n",
      "region\n",
      "all_word_counts\n",
      "my_word_counts\n",
      "throw\n",
      "loss\n",
      "replay_url\n"
     ]
    }
   ],
   "source": [
    "for key in og_v_fnatic_match_info:\n",
    "    print(key)"
   ]
  },
  {
   "cell_type": "code",
   "execution_count": 123,
   "id": "a93b6ea4-d462-4b36-aec3-386a70f400c9",
   "metadata": {},
   "outputs": [],
   "source": [
    "players = og_v_fnatic_match_info['players']"
   ]
  },
  {
   "cell_type": "code",
   "execution_count": 124,
   "id": "054efa2b-c3f7-4f87-8353-6404639bc356",
   "metadata": {},
   "outputs": [
    {
     "data": {
      "text/plain": [
       "10"
      ]
     },
     "execution_count": 124,
     "metadata": {},
     "output_type": "execute_result"
    }
   ],
   "source": [
    "len(players)"
   ]
  },
  {
   "cell_type": "code",
   "execution_count": 125,
   "id": "29a86ebd-a1fa-429a-a12e-e5db3b378bd8",
   "metadata": {},
   "outputs": [
    {
     "data": {
      "text/plain": [
       "['match_id',\n",
       " 'player_slot',\n",
       " 'ability_targets',\n",
       " 'ability_upgrades_arr',\n",
       " 'ability_uses',\n",
       " 'account_id',\n",
       " 'actions',\n",
       " 'additional_units',\n",
       " 'assists',\n",
       " 'backpack_0',\n",
       " 'backpack_1',\n",
       " 'backpack_2',\n",
       " 'backpack_3',\n",
       " 'buyback_log',\n",
       " 'camps_stacked',\n",
       " 'connection_log',\n",
       " 'creeps_stacked',\n",
       " 'damage',\n",
       " 'damage_inflictor',\n",
       " 'damage_inflictor_received',\n",
       " 'damage_taken',\n",
       " 'damage_targets',\n",
       " 'deaths',\n",
       " 'denies',\n",
       " 'dn_t',\n",
       " 'firstblood_claimed',\n",
       " 'gold',\n",
       " 'gold_per_min',\n",
       " 'gold_reasons',\n",
       " 'gold_spent',\n",
       " 'gold_t',\n",
       " 'hero_damage',\n",
       " 'hero_healing',\n",
       " 'hero_hits',\n",
       " 'hero_id',\n",
       " 'item_0',\n",
       " 'item_1',\n",
       " 'item_2',\n",
       " 'item_3',\n",
       " 'item_4',\n",
       " 'item_5',\n",
       " 'item_neutral',\n",
       " 'item_uses',\n",
       " 'kill_streaks',\n",
       " 'killed',\n",
       " 'killed_by',\n",
       " 'kills',\n",
       " 'kills_log',\n",
       " 'lane_pos',\n",
       " 'last_hits',\n",
       " 'leaver_status',\n",
       " 'level',\n",
       " 'lh_t',\n",
       " 'life_state',\n",
       " 'max_hero_hit',\n",
       " 'multi_kills',\n",
       " 'net_worth',\n",
       " 'obs',\n",
       " 'obs_left_log',\n",
       " 'obs_log',\n",
       " 'obs_placed',\n",
       " 'party_id',\n",
       " 'party_size',\n",
       " 'performance_others',\n",
       " 'permanent_buffs',\n",
       " 'pings',\n",
       " 'pred_vict',\n",
       " 'purchase',\n",
       " 'purchase_log',\n",
       " 'randomed',\n",
       " 'repicked',\n",
       " 'roshans_killed',\n",
       " 'rune_pickups',\n",
       " 'runes',\n",
       " 'runes_log',\n",
       " 'sen',\n",
       " 'sen_left_log',\n",
       " 'sen_log',\n",
       " 'sen_placed',\n",
       " 'stuns',\n",
       " 'teamfight_participation',\n",
       " 'times',\n",
       " 'tower_damage',\n",
       " 'towers_killed',\n",
       " 'xp_per_min',\n",
       " 'xp_reasons',\n",
       " 'xp_t',\n",
       " 'personaname',\n",
       " 'name',\n",
       " 'last_login',\n",
       " 'radiant_win',\n",
       " 'start_time',\n",
       " 'duration',\n",
       " 'cluster',\n",
       " 'lobby_type',\n",
       " 'game_mode',\n",
       " 'is_contributor',\n",
       " 'patch',\n",
       " 'region',\n",
       " 'isRadiant',\n",
       " 'win',\n",
       " 'lose',\n",
       " 'total_gold',\n",
       " 'total_xp',\n",
       " 'kills_per_min',\n",
       " 'kda',\n",
       " 'abandons',\n",
       " 'neutral_kills',\n",
       " 'tower_kills',\n",
       " 'courier_kills',\n",
       " 'lane_kills',\n",
       " 'hero_kills',\n",
       " 'observer_kills',\n",
       " 'sentry_kills',\n",
       " 'roshan_kills',\n",
       " 'necronomicon_kills',\n",
       " 'ancient_kills',\n",
       " 'buyback_count',\n",
       " 'observer_uses',\n",
       " 'sentry_uses',\n",
       " 'lane_efficiency',\n",
       " 'lane_efficiency_pct',\n",
       " 'lane',\n",
       " 'lane_role',\n",
       " 'is_roaming',\n",
       " 'purchase_time',\n",
       " 'first_purchase_time',\n",
       " 'item_win',\n",
       " 'item_usage',\n",
       " 'purchase_tpscroll',\n",
       " 'actions_per_min',\n",
       " 'life_state_dead',\n",
       " 'rank_tier',\n",
       " 'is_subscriber',\n",
       " 'cosmetics',\n",
       " 'benchmarks']"
      ]
     },
     "execution_count": 125,
     "metadata": {},
     "output_type": "execute_result"
    }
   ],
   "source": [
    "[p_keys for p_keys in players[0]]"
   ]
  },
  {
   "cell_type": "code",
   "execution_count": 126,
   "id": "d1e901f8-7bb0-4546-b36f-3434868cedcd",
   "metadata": {},
   "outputs": [
    {
     "data": {
      "text/html": [
       "<div>\n",
       "<style scoped>\n",
       "    .dataframe tbody tr th:only-of-type {\n",
       "        vertical-align: middle;\n",
       "    }\n",
       "\n",
       "    .dataframe tbody tr th {\n",
       "        vertical-align: top;\n",
       "    }\n",
       "\n",
       "    .dataframe thead th {\n",
       "        text-align: right;\n",
       "    }\n",
       "</style>\n",
       "<table border=\"1\" class=\"dataframe\">\n",
       "  <thead>\n",
       "    <tr style=\"text-align: right;\">\n",
       "      <th></th>\n",
       "      <th>start_date</th>\n",
       "      <th>opposing_team_name</th>\n",
       "      <th>opposing_team_id</th>\n",
       "      <th>league_name</th>\n",
       "      <th>leagueid</th>\n",
       "      <th>cluster</th>\n",
       "      <th>radiant_win</th>\n",
       "      <th>radiant</th>\n",
       "      <th>duration</th>\n",
       "      <th>match_id</th>\n",
       "      <th>match_outcome</th>\n",
       "    </tr>\n",
       "  </thead>\n",
       "  <tbody>\n",
       "    <tr>\n",
       "      <th>0</th>\n",
       "      <td>2022-08-28 20:37:20</td>\n",
       "      <td>Team Aster</td>\n",
       "      <td>6209166</td>\n",
       "      <td>ESL One Malaysia 2022 powered by Intel</td>\n",
       "      <td>14388</td>\n",
       "      <td>155</td>\n",
       "      <td>True</td>\n",
       "      <td>True</td>\n",
       "      <td>2455</td>\n",
       "      <td>6728572058</td>\n",
       "      <td>True</td>\n",
       "    </tr>\n",
       "    <tr>\n",
       "      <th>1</th>\n",
       "      <td>2022-08-28 19:19:19</td>\n",
       "      <td>Team Aster</td>\n",
       "      <td>6209166</td>\n",
       "      <td>ESL One Malaysia 2022 powered by Intel</td>\n",
       "      <td>14388</td>\n",
       "      <td>155</td>\n",
       "      <td>False</td>\n",
       "      <td>False</td>\n",
       "      <td>2996</td>\n",
       "      <td>6728463079</td>\n",
       "      <td>True</td>\n",
       "    </tr>\n",
       "    <tr>\n",
       "      <th>2</th>\n",
       "      <td>2022-08-28 18:03:26</td>\n",
       "      <td>Team Aster</td>\n",
       "      <td>6209166</td>\n",
       "      <td>ESL One Malaysia 2022 powered by Intel</td>\n",
       "      <td>14388</td>\n",
       "      <td>151</td>\n",
       "      <td>False</td>\n",
       "      <td>False</td>\n",
       "      <td>2776</td>\n",
       "      <td>6728333090</td>\n",
       "      <td>True</td>\n",
       "    </tr>\n",
       "    <tr>\n",
       "      <th>3</th>\n",
       "      <td>2022-08-28 15:18:42</td>\n",
       "      <td>Team Secret</td>\n",
       "      <td>1838315</td>\n",
       "      <td>ESL One Malaysia 2022 powered by Intel</td>\n",
       "      <td>14388</td>\n",
       "      <td>151</td>\n",
       "      <td>False</td>\n",
       "      <td>False</td>\n",
       "      <td>1628</td>\n",
       "      <td>6728136960</td>\n",
       "      <td>True</td>\n",
       "    </tr>\n",
       "    <tr>\n",
       "      <th>4</th>\n",
       "      <td>2022-08-28 14:04:20</td>\n",
       "      <td>Team Secret</td>\n",
       "      <td>1838315</td>\n",
       "      <td>ESL One Malaysia 2022 powered by Intel</td>\n",
       "      <td>14388</td>\n",
       "      <td>156</td>\n",
       "      <td>False</td>\n",
       "      <td>False</td>\n",
       "      <td>2547</td>\n",
       "      <td>6728055442</td>\n",
       "      <td>True</td>\n",
       "    </tr>\n",
       "  </tbody>\n",
       "</table>\n",
       "</div>"
      ],
      "text/plain": [
       "            start_date opposing_team_name  opposing_team_id  \\\n",
       "0  2022-08-28 20:37:20         Team Aster           6209166   \n",
       "1  2022-08-28 19:19:19         Team Aster           6209166   \n",
       "2  2022-08-28 18:03:26         Team Aster           6209166   \n",
       "3  2022-08-28 15:18:42        Team Secret           1838315   \n",
       "4  2022-08-28 14:04:20        Team Secret           1838315   \n",
       "\n",
       "                              league_name  leagueid  cluster  radiant_win  \\\n",
       "0  ESL One Malaysia 2022 powered by Intel     14388      155         True   \n",
       "1  ESL One Malaysia 2022 powered by Intel     14388      155        False   \n",
       "2  ESL One Malaysia 2022 powered by Intel     14388      151        False   \n",
       "3  ESL One Malaysia 2022 powered by Intel     14388      151        False   \n",
       "4  ESL One Malaysia 2022 powered by Intel     14388      156        False   \n",
       "\n",
       "   radiant  duration    match_id  match_outcome  \n",
       "0     True      2455  6728572058           True  \n",
       "1    False      2996  6728463079           True  \n",
       "2    False      2776  6728333090           True  \n",
       "3    False      1628  6728136960           True  \n",
       "4    False      2547  6728055442           True  "
      ]
     },
     "execution_count": 126,
     "metadata": {},
     "output_type": "execute_result"
    }
   ],
   "source": [
    "team_og_matches_df.head()"
   ]
  },
  {
   "cell_type": "code",
   "execution_count": 127,
   "id": "a1f8fe4d-84cc-4fde-894d-efc523ffd158",
   "metadata": {},
   "outputs": [
    {
     "name": "stdout",
     "output_type": "stream",
     "text": [
      "name: AMMAR_THE_F lane role: 3 accountid: 183719386 lane efficiency: 78 kda: 4 rank_tier: 80 is radiant: True\n",
      "name: bzm lane role: 2 accountid: 93618577 lane efficiency: 61 kda: 6 rank_tier: 80 is radiant: True\n",
      "name: Yuragi lane role: 1 accountid: 167976729 lane efficiency: 69 kda: 8 rank_tier: 80 is radiant: True\n",
      "name: Chu lane role: 3 accountid: 117483894 lane efficiency: 27 kda: 7 rank_tier: 80 is radiant: True\n",
      "name: Taiga lane role: 1 accountid: 401792574 lane efficiency: 33 kda: 4 rank_tier: 80 is radiant: True\n",
      "name: Monet lane role: 1 accountid: 148215639 lane efficiency: 66 kda: 2 rank_tier: 80 is radiant: False\n",
      "name: Xxs lane role: 3 accountid: 129958758 lane efficiency: 80 kda: 1 rank_tier: 80 is radiant: False\n",
      "name: BoBoKa lane role: 3 accountid: 207829314 lane efficiency: 35 kda: 1 rank_tier: 80 is radiant: False\n",
      "name: Ori lane role: 2 accountid: 107803494 lane efficiency: 80 kda: 0 rank_tier: 80 is radiant: False\n",
      "name: 皮球 lane role: 1 accountid: 183378746 lane efficiency: 27 kda: 1 rank_tier: 80 is radiant: False\n"
     ]
    }
   ],
   "source": [
    "for i in range(10):\n",
    "    \n",
    "    print('name:', players[i]['name'], 'lane role:', players[i]['lane_role'], 'accountid:',  players[i]['account_id'], 'lane efficiency:', players[i]['lane_efficiency_pct'], 'kda:', players[i]['kda'],'rank_tier:', players[i]['rank_tier'], 'is radiant:', players[i]['isRadiant'])"
   ]
  },
  {
   "cell_type": "code",
   "execution_count": 88,
   "id": "aafe22f7-6b98-40c1-bac4-77c727a82ef0",
   "metadata": {},
   "outputs": [
    {
     "name": "stdout",
     "output_type": "stream",
     "text": [
      "<Response [200]>\n"
     ]
    },
    {
     "data": {
      "text/plain": [
       "{'solo_competitive_rank': 6261,\n",
       " 'competitive_rank': None,\n",
       " 'leaderboard_rank': 48,\n",
       " 'mmr_estimate': {'estimate': 6386},\n",
       " 'profile': {'account_id': 401792574,\n",
       "  'personaname': '?',\n",
       "  'name': 'Taiga',\n",
       "  'plus': True,\n",
       "  'cheese': 0,\n",
       "  'steamid': '76561198362058302',\n",
       "  'avatar': 'https://avatars.akamai.steamstatic.com/fede1355e88a5ffae6e9bfc20de4ec33a18ef5d1.jpg',\n",
       "  'avatarmedium': 'https://avatars.akamai.steamstatic.com/fede1355e88a5ffae6e9bfc20de4ec33a18ef5d1_medium.jpg',\n",
       "  'avatarfull': 'https://avatars.akamai.steamstatic.com/fede1355e88a5ffae6e9bfc20de4ec33a18ef5d1_full.jpg',\n",
       "  'profileurl': 'https://steamcommunity.com/id/Taigadota/',\n",
       "  'last_login': '2017-10-31T05:53:29.049Z',\n",
       "  'loccountrycode': 'NO',\n",
       "  'status': None,\n",
       "  'is_contributor': False,\n",
       "  'is_subscriber': False},\n",
       " 'rank_tier': 80}"
      ]
     },
     "execution_count": 88,
     "metadata": {},
     "output_type": "execute_result"
    }
   ],
   "source": [
    "taiga = get_player_info('401792574')\n",
    "taiga"
   ]
  },
  {
   "cell_type": "code",
   "execution_count": 128,
   "id": "53e8604f-cfce-4c03-850c-b87412159ffc",
   "metadata": {},
   "outputs": [],
   "source": [
    "def get_player_account_id_from_match_id(match_id, isRadiant):\n",
    "    opposing_team = []\n",
    "    prediction_team = []\n",
    "    \n",
    "    match_info_json = get_match_info(match_id)\n",
    "    all_players = match_info_json['players']\n",
    "    \n",
    "    for i in range(10):\n",
    "        player_info = get_player_info(all_players[i]['account_id'])\n",
    "        \n",
    "        temp = {'name' : all_players[i]['name'],\n",
    "                'account_id' : all_players[i]['account_id'],\n",
    "                'mmr_estimate' : player_info['mmr_estimate']['estimate'],\n",
    "                'rank_tier' : player_info['rank_tier'],\n",
    "                'leaderboard_rank' : player_info['leaderboard_rank'],\n",
    "                'solo_competitive_rank' : player_info['solo_competitive_rank']}\n",
    "                                      \n",
    "        # if the 'isRadiant' is equal to isRadiant then the player is on the prediction team\n",
    "        if (all_players[i]['isRadiant'] == isRadiant):\n",
    "                                          \n",
    "            prediction_team.append(temp)\n",
    "        else:                          \n",
    "            opposing_team.append(temp)\n",
    "            \n",
    "    return {'opposing_team' : opposing_team, 'prediction_team' : prediction_team}"
   ]
  },
  {
   "cell_type": "code",
   "execution_count": null,
   "id": "9a6eaae3-b04e-4964-93c2-3302d9183f00",
   "metadata": {},
   "outputs": [],
   "source": []
  },
  {
   "cell_type": "code",
   "execution_count": 46,
   "id": "00b30fc9-e09d-4fd7-b41a-2ea5b00c542c",
   "metadata": {},
   "outputs": [],
   "source": [
    "def get_team_players(team_id):\n",
    "    response = requests.get(BASE_URL + TEAMS + '/' + str(team_id) + '/' + PLAYERS)\n",
    "    print(response)\n",
    "\n",
    "    try:\n",
    "        team_data_json = json.loads(response.content.decode('utf-8'))\n",
    "\n",
    "    except requests.exceptions.Timeout:\n",
    "        print('request is taking too long to complete, possible timeout, getting old data from Firebase')\n",
    "\n",
    "    except requests.exceptions.RequestException as e:\n",
    "        raise SystemExit(e)\n",
    "    \n",
    "    else:\n",
    "        return team_data_json\n",
    "    \n",
    "    return 0"
   ]
  },
  {
   "cell_type": "code",
   "execution_count": 47,
   "id": "0e8ac567-44c4-4c5f-8f5c-6e8a7fb5c9f3",
   "metadata": {},
   "outputs": [],
   "source": [
    "def get_player_info(account_id):\n",
    "    response = requests.get(BASE_URL + PLAYERS + '/' + str(account_id))\n",
    "    print(response)\n",
    "\n",
    "    try:\n",
    "        player_data_json = json.loads(response.content.decode('utf-8'))\n",
    "\n",
    "    except requests.exceptions.Timeout:\n",
    "        print('request is taking too long to complete, possible timeout, getting old data from Firebase')\n",
    "\n",
    "    except requests.exceptions.RequestException as e:\n",
    "        raise SystemExit(e)\n",
    "    \n",
    "    else:\n",
    "        return player_data_json\n",
    "    \n",
    "    return 0"
   ]
  },
  {
   "cell_type": "code",
   "execution_count": 48,
   "id": "33fb485e-b2be-4fb2-89b9-557be3a3df25",
   "metadata": {},
   "outputs": [],
   "source": [
    "def get_player_peers(account_id):\n",
    "    response = requests.get(BASE_URL + PLAYERS + '/' + str(account_id) + '/peers')\n",
    "    print(response)\n",
    "\n",
    "    try:\n",
    "        player_data_json = json.loads(response.content.decode('utf-8'))\n",
    "\n",
    "    except requests.exceptions.Timeout:\n",
    "        print('request is taking too long to complete, possible timeout, getting old data from Firebase')\n",
    "\n",
    "    except requests.exceptions.RequestException as e:\n",
    "        raise SystemExit(e)\n",
    "    \n",
    "    else:\n",
    "        return player_data_json\n",
    "    \n",
    "    return 0"
   ]
  },
  {
   "cell_type": "code",
   "execution_count": 49,
   "id": "47b9150d-d141-41df-97dc-32bce4ee6f68",
   "metadata": {},
   "outputs": [
    {
     "name": "stdout",
     "output_type": "stream",
     "text": [
      "<Response [200]>\n"
     ]
    }
   ],
   "source": [
    "team_og_players = get_team_players(2586976)"
   ]
  },
  {
   "cell_type": "code",
   "execution_count": 50,
   "id": "c34c6901-9976-4d33-8613-2347fd670996",
   "metadata": {},
   "outputs": [
    {
     "data": {
      "text/plain": [
       "{'account_id': 19672354,\n",
       " 'name': 'N0tail',\n",
       " 'games_played': 1150,\n",
       " 'wins': 709,\n",
       " 'is_current_team_member': False}"
      ]
     },
     "execution_count": 50,
     "metadata": {},
     "output_type": "execute_result"
    }
   ],
   "source": [
    "team_og_players[0]"
   ]
  },
  {
   "cell_type": "code",
   "execution_count": 51,
   "id": "eaed3857-1b0d-4716-b147-dc57cd0dc427",
   "metadata": {},
   "outputs": [],
   "source": [
    "player = search_item('taiga', 'name', all_pro_players)"
   ]
  },
  {
   "cell_type": "code",
   "execution_count": 52,
   "id": "fd646a4c-9a14-4bc6-9345-13f9fb95ee0b",
   "metadata": {},
   "outputs": [
    {
     "data": {
      "text/plain": [
       "[{'id': 74,\n",
       "  'name': 'npc_dota_hero_invoker',\n",
       "  'localized_name': 'Invoker',\n",
       "  'primary_attr': 'int',\n",
       "  'attack_type': 'Ranged',\n",
       "  'roles': ['Carry', 'Nuker', 'Disabler', 'Escape', 'Pusher'],\n",
       "  'legs': 2}]"
      ]
     },
     "execution_count": 52,
     "metadata": {},
     "output_type": "execute_result"
    }
   ],
   "source": [
    "[item for item in all_heroes if item['id'] == 74]"
   ]
  },
  {
   "cell_type": "code",
   "execution_count": 53,
   "id": "e71ccebe-3af3-49c5-8286-e8e7167b545c",
   "metadata": {},
   "outputs": [
    {
     "data": {
      "text/plain": [
       "[{'account_id': 401792574,\n",
       "  'steamid': '76561198362058302',\n",
       "  'avatar': 'https://avatars.akamai.steamstatic.com/fede1355e88a5ffae6e9bfc20de4ec33a18ef5d1.jpg',\n",
       "  'avatarmedium': 'https://avatars.akamai.steamstatic.com/fede1355e88a5ffae6e9bfc20de4ec33a18ef5d1_medium.jpg',\n",
       "  'avatarfull': 'https://avatars.akamai.steamstatic.com/fede1355e88a5ffae6e9bfc20de4ec33a18ef5d1_full.jpg',\n",
       "  'profileurl': 'https://steamcommunity.com/id/Taigadota/',\n",
       "  'personaname': '?',\n",
       "  'last_login': '2017-10-31T05:53:29.049Z',\n",
       "  'full_history_time': '2022-08-27T17:40:32.077Z',\n",
       "  'cheese': 0,\n",
       "  'fh_unavailable': True,\n",
       "  'loccountrycode': 'NO',\n",
       "  'last_match_time': '2022-08-28T10:37:20.000Z',\n",
       "  'plus': True,\n",
       "  'name': 'Taiga',\n",
       "  'country_code': 'no',\n",
       "  'fantasy_role': 2,\n",
       "  'team_id': 2586976,\n",
       "  'team_name': 'OG',\n",
       "  'team_tag': 'OG',\n",
       "  'is_locked': True,\n",
       "  'is_pro': True,\n",
       "  'locked_until': None}]"
      ]
     },
     "execution_count": 53,
     "metadata": {},
     "output_type": "execute_result"
    }
   ],
   "source": [
    "player"
   ]
  },
  {
   "cell_type": "code",
   "execution_count": 54,
   "id": "0d5b92c1-3512-45fd-aa91-d6be8de1d499",
   "metadata": {},
   "outputs": [],
   "source": [
    "taiga_account_id = 401792574"
   ]
  },
  {
   "cell_type": "code",
   "execution_count": null,
   "id": "27fc1a0d-a35b-4696-b678-101994a17b4c",
   "metadata": {},
   "outputs": [],
   "source": []
  },
  {
   "cell_type": "markdown",
   "id": "4351c130-585b-4a16-b483-93f07ef6b6b6",
   "metadata": {},
   "source": [
    "# What makes a team win matches?\n",
    "\n",
    "-players? Team composition\n",
    "\n",
    "-draft pick? Hero composition\n",
    "\n",
    "-items? Item-Hero compatibility\n",
    "\n",
    "-time? Match duration"
   ]
  },
  {
   "cell_type": "markdown",
   "id": "0b8be67c-bb94-4625-9f50-3adf8f328fa8",
   "metadata": {},
   "source": [
    "# What makes a specific team win?"
   ]
  },
  {
   "cell_type": "markdown",
   "id": "0accd9fa-2d15-4aba-87ed-68aad0b3de1a",
   "metadata": {},
   "source": [
    "Since you can't include team names in the dataset, teams should be represented numerically with information that excludes historical match performance data (because new data pre-hero-draft won't include match data of course)\n",
    "\n",
    "The only way I can think of is to use that specific match's player's historical performance data leading up to that match as a representation of the teams e.g. \n",
    "\n",
    "Team OG Matches from 2015:\n",
    "\n",
    "\t    start_date\t        opposing_team_name\t    opposing_team_id\tleague_name\tleagueid\t        cluster\tradiant_win\tradiant\tduration\tmatch_id\tmatch_outcome\n",
    "        \n",
    "1328\t2015-11-04 04:50:57\tMONKEY FREEDOM FIGHTERS\t758797\t            ASUS ROG DreamLeague Season 4\t3865\t133\tTrue\tTrue\t1423\t1912135868\tTrue\n",
    "\n",
    "1329\t2015-11-03 08:09:58\tMamas-Boys\t            2276247\t            ASUS ROG DreamLeague Season 4\t3865\t138\tTrue\tTrue\t1092\t1910208777\tTrue\n",
    "\n",
    "For match id 1912135868, include all 5 player performance data from the lead up to that 2015 match and don't include future data beyond 2015 even if we have it!"
   ]
  },
  {
   "cell_type": "markdown",
   "id": "2a6a364f-b383-4aa5-8c94-f59b2597db46",
   "metadata": {},
   "source": [
    "# Figure out which data to use to quantify player performance\n",
    "\n",
    "e.g. lane efficiency, MMR, years experience, team cohesion"
   ]
  },
  {
   "cell_type": "markdown",
   "id": "ed172af5-6b49-42ee-aa6c-118b128f3306",
   "metadata": {},
   "source": [
    "# Figure out which data to use to quantify team performance\n",
    "\n",
    "e.g. team fight success rate, team brand goodwill? Team Rank\n",
    "\n",
    "1. Get Team A vs B Match Info --> Get Players --> Get Player Account IDs --> Get Historical Team Win Rate together"
   ]
  },
  {
   "cell_type": "code",
   "execution_count": 55,
   "id": "53899dde-3706-4e5b-9e1f-e686bb3f7d79",
   "metadata": {},
   "outputs": [],
   "source": [
    "opendota_api_info = get_opendota_api_info()"
   ]
  },
  {
   "cell_type": "code",
   "execution_count": 87,
   "id": "dea2c35b-9a08-40c5-bc40-80159b74490d",
   "metadata": {},
   "outputs": [
    {
     "name": "stdout",
     "output_type": "stream",
     "text": [
      "<Response [200]>\n"
     ]
    },
    {
     "data": {
      "text/plain": [
       "{'profile': {'account_id': 401792574,\n",
       "  'personaname': '?',\n",
       "  'name': 'Taiga',\n",
       "  'plus': True,\n",
       "  'cheese': 0,\n",
       "  'steamid': '76561198362058302',\n",
       "  'avatar': 'https://avatars.akamai.steamstatic.com/fede1355e88a5ffae6e9bfc20de4ec33a18ef5d1.jpg',\n",
       "  'avatarmedium': 'https://avatars.akamai.steamstatic.com/fede1355e88a5ffae6e9bfc20de4ec33a18ef5d1_medium.jpg',\n",
       "  'avatarfull': 'https://avatars.akamai.steamstatic.com/fede1355e88a5ffae6e9bfc20de4ec33a18ef5d1_full.jpg',\n",
       "  'profileurl': 'https://steamcommunity.com/id/Taigadota/',\n",
       "  'last_login': '2017-10-31T05:53:29.049Z',\n",
       "  'loccountrycode': 'NO',\n",
       "  'status': None,\n",
       "  'is_contributor': False,\n",
       "  'is_subscriber': False},\n",
       " 'competitive_rank': None,\n",
       " 'rank_tier': 80,\n",
       " 'leaderboard_rank': 48,\n",
       " 'mmr_estimate': {'estimate': 6386},\n",
       " 'solo_competitive_rank': 6261}"
      ]
     },
     "execution_count": 87,
     "metadata": {},
     "output_type": "execute_result"
    }
   ],
   "source": [
    "taiga = get_player_info('401792574')\n",
    "taiga"
   ]
  },
  {
   "cell_type": "code",
   "execution_count": 75,
   "id": "31afd31c-8354-4bd0-bb80-199514b143d6",
   "metadata": {},
   "outputs": [
    {
     "name": "stdout",
     "output_type": "stream",
     "text": [
      "<Response [200]>\n",
      "5675\n",
      "14\n"
     ]
    }
   ],
   "source": [
    "ammar = get_player_info(183719386)\n",
    "print(ammar['mmr_estimate']['estimate'])\n",
    "print(ammar['leaderboard_rank'])"
   ]
  },
  {
   "cell_type": "code",
   "execution_count": 58,
   "id": "52a26a29-6c93-4a7a-ad22-83ff04561032",
   "metadata": {},
   "outputs": [
    {
     "name": "stdout",
     "output_type": "stream",
     "text": [
      "<Response [200]>\n"
     ]
    },
    {
     "data": {
      "text/plain": [
       "[{'account_id': 183719386,\n",
       "  'last_played': 1661683040,\n",
       "  'win': 113,\n",
       "  'games': 186,\n",
       "  'with_win': 106,\n",
       "  'with_games': 173,\n",
       "  'against_win': 7,\n",
       "  'against_games': 13,\n",
       "  'with_gpm_sum': 53927,\n",
       "  'with_xpm_sum': 74213,\n",
       "  'personaname': 'ATM',\n",
       "  'name': 'AMMAR_THE_F',\n",
       "  'is_contributor': False,\n",
       "  'is_subscriber': False,\n",
       "  'last_login': '2021-05-05T15:49:21.412Z',\n",
       "  'avatar': 'https://avatars.akamai.steamstatic.com/6dde62ad2f5e6d32c9d0b7432313ce82c189bf30.jpg',\n",
       "  'avatarfull': 'https://avatars.akamai.steamstatic.com/6dde62ad2f5e6d32c9d0b7432313ce82c189bf30_full.jpg'}]"
      ]
     },
     "execution_count": 58,
     "metadata": {},
     "output_type": "execute_result"
    }
   ],
   "source": [
    "taiga_peers = get_player_peers(401792574)\n",
    "[item for item in taiga_peers if item['account_id'] == 183719386]"
   ]
  },
  {
   "cell_type": "code",
   "execution_count": null,
   "id": "0f89627c-e2b7-4053-8f29-8cc1fef6901d",
   "metadata": {},
   "outputs": [],
   "source": [
    "opendota_api_info"
   ]
  },
  {
   "cell_type": "code",
   "execution_count": 78,
   "id": "4d71f598-9f5b-4c43-93e0-05ed02d3c222",
   "metadata": {},
   "outputs": [
    {
     "data": {
      "text/html": [
       "<div>\n",
       "<style scoped>\n",
       "    .dataframe tbody tr th:only-of-type {\n",
       "        vertical-align: middle;\n",
       "    }\n",
       "\n",
       "    .dataframe tbody tr th {\n",
       "        vertical-align: top;\n",
       "    }\n",
       "\n",
       "    .dataframe thead th {\n",
       "        text-align: right;\n",
       "    }\n",
       "</style>\n",
       "<table border=\"1\" class=\"dataframe\">\n",
       "  <thead>\n",
       "    <tr style=\"text-align: right;\">\n",
       "      <th></th>\n",
       "      <th>start_date</th>\n",
       "      <th>opposing_team_name</th>\n",
       "      <th>opposing_team_id</th>\n",
       "      <th>league_name</th>\n",
       "      <th>leagueid</th>\n",
       "      <th>cluster</th>\n",
       "      <th>radiant_win</th>\n",
       "      <th>radiant</th>\n",
       "      <th>duration</th>\n",
       "      <th>match_id</th>\n",
       "      <th>match_outcome</th>\n",
       "    </tr>\n",
       "  </thead>\n",
       "  <tbody>\n",
       "    <tr>\n",
       "      <th>5</th>\n",
       "      <td>2022-08-27 23:42:16</td>\n",
       "      <td>Fnatic</td>\n",
       "      <td>350190</td>\n",
       "      <td>ESL One Malaysia 2022 powered by Intel</td>\n",
       "      <td>14388</td>\n",
       "      <td>152</td>\n",
       "      <td>False</td>\n",
       "      <td>False</td>\n",
       "      <td>1931</td>\n",
       "      <td>6727040019</td>\n",
       "      <td>True</td>\n",
       "    </tr>\n",
       "    <tr>\n",
       "      <th>6</th>\n",
       "      <td>2022-08-27 22:25:20</td>\n",
       "      <td>Fnatic</td>\n",
       "      <td>350190</td>\n",
       "      <td>ESL One Malaysia 2022 powered by Intel</td>\n",
       "      <td>14388</td>\n",
       "      <td>156</td>\n",
       "      <td>False</td>\n",
       "      <td>False</td>\n",
       "      <td>2719</td>\n",
       "      <td>6726897362</td>\n",
       "      <td>True</td>\n",
       "    </tr>\n",
       "    <tr>\n",
       "      <th>7</th>\n",
       "      <td>2022-08-27 21:16:45</td>\n",
       "      <td>Fnatic</td>\n",
       "      <td>350190</td>\n",
       "      <td>ESL One Malaysia 2022 powered by Intel</td>\n",
       "      <td>14388</td>\n",
       "      <td>155</td>\n",
       "      <td>False</td>\n",
       "      <td>True</td>\n",
       "      <td>2252</td>\n",
       "      <td>6726755759</td>\n",
       "      <td>False</td>\n",
       "    </tr>\n",
       "    <tr>\n",
       "      <th>20</th>\n",
       "      <td>2022-08-23 22:50:01</td>\n",
       "      <td>Fnatic</td>\n",
       "      <td>350190</td>\n",
       "      <td>ESL One Malaysia 2022 powered by Intel</td>\n",
       "      <td>14388</td>\n",
       "      <td>156</td>\n",
       "      <td>True</td>\n",
       "      <td>True</td>\n",
       "      <td>1635</td>\n",
       "      <td>6720651873</td>\n",
       "      <td>True</td>\n",
       "    </tr>\n",
       "    <tr>\n",
       "      <th>21</th>\n",
       "      <td>2022-08-23 21:52:01</td>\n",
       "      <td>Fnatic</td>\n",
       "      <td>350190</td>\n",
       "      <td>ESL One Malaysia 2022 powered by Intel</td>\n",
       "      <td>14388</td>\n",
       "      <td>152</td>\n",
       "      <td>False</td>\n",
       "      <td>False</td>\n",
       "      <td>1537</td>\n",
       "      <td>6720571150</td>\n",
       "      <td>True</td>\n",
       "    </tr>\n",
       "    <tr>\n",
       "      <th>50</th>\n",
       "      <td>2022-08-05 02:13:29</td>\n",
       "      <td>Fnatic</td>\n",
       "      <td>350190</td>\n",
       "      <td>PGL Arlington Major 2022</td>\n",
       "      <td>14417</td>\n",
       "      <td>121</td>\n",
       "      <td>False</td>\n",
       "      <td>False</td>\n",
       "      <td>1941</td>\n",
       "      <td>6692354598</td>\n",
       "      <td>True</td>\n",
       "    </tr>\n",
       "    <tr>\n",
       "      <th>51</th>\n",
       "      <td>2022-08-05 01:08:00</td>\n",
       "      <td>Fnatic</td>\n",
       "      <td>350190</td>\n",
       "      <td>PGL Arlington Major 2022</td>\n",
       "      <td>14417</td>\n",
       "      <td>122</td>\n",
       "      <td>True</td>\n",
       "      <td>False</td>\n",
       "      <td>2015</td>\n",
       "      <td>6692259411</td>\n",
       "      <td>False</td>\n",
       "    </tr>\n",
       "    <tr>\n",
       "      <th>90</th>\n",
       "      <td>2022-05-21 02:35:09</td>\n",
       "      <td>Fnatic</td>\n",
       "      <td>350190</td>\n",
       "      <td>ESL One Stockholm Major 2022 powered by Intel</td>\n",
       "      <td>14173</td>\n",
       "      <td>184</td>\n",
       "      <td>False</td>\n",
       "      <td>False</td>\n",
       "      <td>3846</td>\n",
       "      <td>6578909443</td>\n",
       "      <td>True</td>\n",
       "    </tr>\n",
       "    <tr>\n",
       "      <th>91</th>\n",
       "      <td>2022-05-21 01:25:10</td>\n",
       "      <td>Fnatic</td>\n",
       "      <td>350190</td>\n",
       "      <td>ESL One Stockholm Major 2022 powered by Intel</td>\n",
       "      <td>14173</td>\n",
       "      <td>182</td>\n",
       "      <td>False</td>\n",
       "      <td>True</td>\n",
       "      <td>2181</td>\n",
       "      <td>6578799684</td>\n",
       "      <td>False</td>\n",
       "    </tr>\n",
       "    <tr>\n",
       "      <th>92</th>\n",
       "      <td>2022-05-21 00:09:48</td>\n",
       "      <td>Fnatic</td>\n",
       "      <td>350190</td>\n",
       "      <td>ESL One Stockholm Major 2022 powered by Intel</td>\n",
       "      <td>14173</td>\n",
       "      <td>187</td>\n",
       "      <td>False</td>\n",
       "      <td>False</td>\n",
       "      <td>2698</td>\n",
       "      <td>6578674296</td>\n",
       "      <td>True</td>\n",
       "    </tr>\n",
       "    <tr>\n",
       "      <th>501</th>\n",
       "      <td>2019-08-17 20:52:19</td>\n",
       "      <td>Fnatic</td>\n",
       "      <td>350190</td>\n",
       "      <td>The International 2019</td>\n",
       "      <td>10749</td>\n",
       "      <td>308</td>\n",
       "      <td>False</td>\n",
       "      <td>False</td>\n",
       "      <td>2166</td>\n",
       "      <td>4971649432</td>\n",
       "      <td>True</td>\n",
       "    </tr>\n",
       "    <tr>\n",
       "      <th>502</th>\n",
       "      <td>2019-08-17 19:36:47</td>\n",
       "      <td>Fnatic</td>\n",
       "      <td>350190</td>\n",
       "      <td>The International 2019</td>\n",
       "      <td>10749</td>\n",
       "      <td>308</td>\n",
       "      <td>False</td>\n",
       "      <td>False</td>\n",
       "      <td>2347</td>\n",
       "      <td>4971535610</td>\n",
       "      <td>True</td>\n",
       "    </tr>\n",
       "    <tr>\n",
       "      <th>563</th>\n",
       "      <td>2019-05-05 02:41:16</td>\n",
       "      <td>Fnatic</td>\n",
       "      <td>350190</td>\n",
       "      <td>MDL Disneyland® Paris Major</td>\n",
       "      <td>10810</td>\n",
       "      <td>134</td>\n",
       "      <td>False</td>\n",
       "      <td>False</td>\n",
       "      <td>2191</td>\n",
       "      <td>4720366906</td>\n",
       "      <td>True</td>\n",
       "    </tr>\n",
       "    <tr>\n",
       "      <th>564</th>\n",
       "      <td>2019-05-05 01:42:31</td>\n",
       "      <td>Fnatic</td>\n",
       "      <td>350190</td>\n",
       "      <td>MDL Disneyland® Paris Major</td>\n",
       "      <td>10810</td>\n",
       "      <td>132</td>\n",
       "      <td>False</td>\n",
       "      <td>False</td>\n",
       "      <td>1700</td>\n",
       "      <td>4720148591</td>\n",
       "      <td>True</td>\n",
       "    </tr>\n",
       "    <tr>\n",
       "      <th>591</th>\n",
       "      <td>2019-02-24 06:00:12</td>\n",
       "      <td>Fnatic</td>\n",
       "      <td>350190</td>\n",
       "      <td>ESL One Katowice 2019 powered by Intel</td>\n",
       "      <td>10424</td>\n",
       "      <td>134</td>\n",
       "      <td>True</td>\n",
       "      <td>True</td>\n",
       "      <td>1566</td>\n",
       "      <td>4454373838</td>\n",
       "      <td>True</td>\n",
       "    </tr>\n",
       "    <tr>\n",
       "      <th>592</th>\n",
       "      <td>2019-02-24 04:47:53</td>\n",
       "      <td>Fnatic</td>\n",
       "      <td>350190</td>\n",
       "      <td>ESL One Katowice 2019 powered by Intel</td>\n",
       "      <td>10424</td>\n",
       "      <td>134</td>\n",
       "      <td>True</td>\n",
       "      <td>True</td>\n",
       "      <td>2206</td>\n",
       "      <td>4454198059</td>\n",
       "      <td>True</td>\n",
       "    </tr>\n",
       "    <tr>\n",
       "      <th>687</th>\n",
       "      <td>2018-08-18 03:08:50</td>\n",
       "      <td>Fnatic</td>\n",
       "      <td>350190</td>\n",
       "      <td>The International 2018</td>\n",
       "      <td>9870</td>\n",
       "      <td>113</td>\n",
       "      <td>True</td>\n",
       "      <td>False</td>\n",
       "      <td>2303</td>\n",
       "      <td>4064796732</td>\n",
       "      <td>False</td>\n",
       "    </tr>\n",
       "    <tr>\n",
       "      <th>688</th>\n",
       "      <td>2018-08-18 02:10:38</td>\n",
       "      <td>Fnatic</td>\n",
       "      <td>350190</td>\n",
       "      <td>The International 2018</td>\n",
       "      <td>9870</td>\n",
       "      <td>113</td>\n",
       "      <td>True</td>\n",
       "      <td>True</td>\n",
       "      <td>1740</td>\n",
       "      <td>4064721264</td>\n",
       "      <td>True</td>\n",
       "    </tr>\n",
       "    <tr>\n",
       "      <th>713</th>\n",
       "      <td>2018-05-26 04:20:16</td>\n",
       "      <td>Fnatic</td>\n",
       "      <td>350190</td>\n",
       "      <td>ESL One Birmingham 2018 powered by Intel</td>\n",
       "      <td>9880</td>\n",
       "      <td>137</td>\n",
       "      <td>True</td>\n",
       "      <td>False</td>\n",
       "      <td>2273</td>\n",
       "      <td>3913692326</td>\n",
       "      <td>False</td>\n",
       "    </tr>\n",
       "    <tr>\n",
       "      <th>714</th>\n",
       "      <td>2018-05-26 03:07:07</td>\n",
       "      <td>Fnatic</td>\n",
       "      <td>350190</td>\n",
       "      <td>ESL One Birmingham 2018 powered by Intel</td>\n",
       "      <td>9880</td>\n",
       "      <td>138</td>\n",
       "      <td>False</td>\n",
       "      <td>True</td>\n",
       "      <td>2472</td>\n",
       "      <td>3913576985</td>\n",
       "      <td>False</td>\n",
       "    </tr>\n",
       "    <tr>\n",
       "      <th>715</th>\n",
       "      <td>2018-05-26 01:49:06</td>\n",
       "      <td>Fnatic</td>\n",
       "      <td>350190</td>\n",
       "      <td>ESL One Birmingham 2018 powered by Intel</td>\n",
       "      <td>9880</td>\n",
       "      <td>132</td>\n",
       "      <td>True</td>\n",
       "      <td>True</td>\n",
       "      <td>2671</td>\n",
       "      <td>3913433059</td>\n",
       "      <td>True</td>\n",
       "    </tr>\n",
       "    <tr>\n",
       "      <th>767</th>\n",
       "      <td>2018-03-21 21:40:49</td>\n",
       "      <td>Fnatic</td>\n",
       "      <td>350190</td>\n",
       "      <td>Corsair DreamLeague season 9</td>\n",
       "      <td>9683</td>\n",
       "      <td>183</td>\n",
       "      <td>False</td>\n",
       "      <td>True</td>\n",
       "      <td>1416</td>\n",
       "      <td>3792442906</td>\n",
       "      <td>False</td>\n",
       "    </tr>\n",
       "    <tr>\n",
       "      <th>768</th>\n",
       "      <td>2018-03-21 20:34:11</td>\n",
       "      <td>Fnatic</td>\n",
       "      <td>350190</td>\n",
       "      <td>Corsair DreamLeague season 9</td>\n",
       "      <td>9683</td>\n",
       "      <td>184</td>\n",
       "      <td>True</td>\n",
       "      <td>False</td>\n",
       "      <td>1907</td>\n",
       "      <td>3792361808</td>\n",
       "      <td>False</td>\n",
       "    </tr>\n",
       "    <tr>\n",
       "      <th>842</th>\n",
       "      <td>2017-12-18 08:27:19</td>\n",
       "      <td>Fnatic</td>\n",
       "      <td>350190</td>\n",
       "      <td>Dota Summit 8</td>\n",
       "      <td>5850</td>\n",
       "      <td>111</td>\n",
       "      <td>True</td>\n",
       "      <td>False</td>\n",
       "      <td>2195</td>\n",
       "      <td>3625232006</td>\n",
       "      <td>False</td>\n",
       "    </tr>\n",
       "    <tr>\n",
       "      <th>843</th>\n",
       "      <td>2017-12-18 07:25:19</td>\n",
       "      <td>Fnatic</td>\n",
       "      <td>350190</td>\n",
       "      <td>Dota Summit 8</td>\n",
       "      <td>5850</td>\n",
       "      <td>111</td>\n",
       "      <td>True</td>\n",
       "      <td>False</td>\n",
       "      <td>1745</td>\n",
       "      <td>3625160730</td>\n",
       "      <td>False</td>\n",
       "    </tr>\n",
       "    <tr>\n",
       "      <th>844</th>\n",
       "      <td>2017-12-18 06:18:29</td>\n",
       "      <td>Fnatic</td>\n",
       "      <td>350190</td>\n",
       "      <td>Dota Summit 8</td>\n",
       "      <td>5850</td>\n",
       "      <td>111</td>\n",
       "      <td>True</td>\n",
       "      <td>True</td>\n",
       "      <td>2100</td>\n",
       "      <td>3625065137</td>\n",
       "      <td>True</td>\n",
       "    </tr>\n",
       "    <tr>\n",
       "      <th>881</th>\n",
       "      <td>2017-11-04 23:33:04</td>\n",
       "      <td>Fnatic</td>\n",
       "      <td>350190</td>\n",
       "      <td>AMD SAPPHIRE Dota PIT</td>\n",
       "      <td>5690</td>\n",
       "      <td>131</td>\n",
       "      <td>False</td>\n",
       "      <td>False</td>\n",
       "      <td>1274</td>\n",
       "      <td>3542160201</td>\n",
       "      <td>True</td>\n",
       "    </tr>\n",
       "    <tr>\n",
       "      <th>1144</th>\n",
       "      <td>2016-07-14 10:30:48</td>\n",
       "      <td>Fnatic</td>\n",
       "      <td>350190</td>\n",
       "      <td>The Summit 5</td>\n",
       "      <td>4442</td>\n",
       "      <td>112</td>\n",
       "      <td>False</td>\n",
       "      <td>False</td>\n",
       "      <td>2487</td>\n",
       "      <td>2502478249</td>\n",
       "      <td>True</td>\n",
       "    </tr>\n",
       "    <tr>\n",
       "      <th>1145</th>\n",
       "      <td>2016-07-14 09:21:27</td>\n",
       "      <td>Fnatic</td>\n",
       "      <td>350190</td>\n",
       "      <td>The Summit 5</td>\n",
       "      <td>4442</td>\n",
       "      <td>111</td>\n",
       "      <td>True</td>\n",
       "      <td>False</td>\n",
       "      <td>2642</td>\n",
       "      <td>2502428208</td>\n",
       "      <td>False</td>\n",
       "    </tr>\n",
       "    <tr>\n",
       "      <th>1146</th>\n",
       "      <td>2016-07-14 08:23:33</td>\n",
       "      <td>Fnatic</td>\n",
       "      <td>350190</td>\n",
       "      <td>The Summit 5</td>\n",
       "      <td>4442</td>\n",
       "      <td>111</td>\n",
       "      <td>True</td>\n",
       "      <td>True</td>\n",
       "      <td>1918</td>\n",
       "      <td>2502387920</td>\n",
       "      <td>True</td>\n",
       "    </tr>\n",
       "    <tr>\n",
       "      <th>1214</th>\n",
       "      <td>2016-03-05 04:01:09</td>\n",
       "      <td>Fnatic</td>\n",
       "      <td>350190</td>\n",
       "      <td>Winter Major 2016</td>\n",
       "      <td>4266</td>\n",
       "      <td>224</td>\n",
       "      <td>True</td>\n",
       "      <td>False</td>\n",
       "      <td>1750</td>\n",
       "      <td>2197232058</td>\n",
       "      <td>False</td>\n",
       "    </tr>\n",
       "    <tr>\n",
       "      <th>1215</th>\n",
       "      <td>2016-03-05 02:28:48</td>\n",
       "      <td>Fnatic</td>\n",
       "      <td>350190</td>\n",
       "      <td>Winter Major 2016</td>\n",
       "      <td>4266</td>\n",
       "      <td>224</td>\n",
       "      <td>True</td>\n",
       "      <td>True</td>\n",
       "      <td>4065</td>\n",
       "      <td>2197006785</td>\n",
       "      <td>True</td>\n",
       "    </tr>\n",
       "    <tr>\n",
       "      <th>1216</th>\n",
       "      <td>2016-03-05 01:25:12</td>\n",
       "      <td>Fnatic</td>\n",
       "      <td>350190</td>\n",
       "      <td>Winter Major 2016</td>\n",
       "      <td>4266</td>\n",
       "      <td>224</td>\n",
       "      <td>False</td>\n",
       "      <td>True</td>\n",
       "      <td>2505</td>\n",
       "      <td>2196830083</td>\n",
       "      <td>False</td>\n",
       "    </tr>\n",
       "    <tr>\n",
       "      <th>1293</th>\n",
       "      <td>2015-11-17 06:08:33</td>\n",
       "      <td>Fnatic</td>\n",
       "      <td>350190</td>\n",
       "      <td>Dota 2 Majors EU 2015</td>\n",
       "      <td>3671</td>\n",
       "      <td>132</td>\n",
       "      <td>False</td>\n",
       "      <td>False</td>\n",
       "      <td>2184</td>\n",
       "      <td>1940220599</td>\n",
       "      <td>True</td>\n",
       "    </tr>\n",
       "  </tbody>\n",
       "</table>\n",
       "</div>"
      ],
      "text/plain": [
       "               start_date opposing_team_name  opposing_team_id  \\\n",
       "5     2022-08-27 23:42:16             Fnatic            350190   \n",
       "6     2022-08-27 22:25:20             Fnatic            350190   \n",
       "7     2022-08-27 21:16:45             Fnatic            350190   \n",
       "20    2022-08-23 22:50:01             Fnatic            350190   \n",
       "21    2022-08-23 21:52:01             Fnatic            350190   \n",
       "50    2022-08-05 02:13:29             Fnatic            350190   \n",
       "51    2022-08-05 01:08:00             Fnatic            350190   \n",
       "90    2022-05-21 02:35:09             Fnatic            350190   \n",
       "91    2022-05-21 01:25:10             Fnatic            350190   \n",
       "92    2022-05-21 00:09:48             Fnatic            350190   \n",
       "501   2019-08-17 20:52:19             Fnatic            350190   \n",
       "502   2019-08-17 19:36:47             Fnatic            350190   \n",
       "563   2019-05-05 02:41:16             Fnatic            350190   \n",
       "564   2019-05-05 01:42:31             Fnatic            350190   \n",
       "591   2019-02-24 06:00:12             Fnatic            350190   \n",
       "592   2019-02-24 04:47:53             Fnatic            350190   \n",
       "687   2018-08-18 03:08:50             Fnatic            350190   \n",
       "688   2018-08-18 02:10:38             Fnatic            350190   \n",
       "713   2018-05-26 04:20:16             Fnatic            350190   \n",
       "714   2018-05-26 03:07:07             Fnatic            350190   \n",
       "715   2018-05-26 01:49:06             Fnatic            350190   \n",
       "767   2018-03-21 21:40:49             Fnatic            350190   \n",
       "768   2018-03-21 20:34:11             Fnatic            350190   \n",
       "842   2017-12-18 08:27:19             Fnatic            350190   \n",
       "843   2017-12-18 07:25:19             Fnatic            350190   \n",
       "844   2017-12-18 06:18:29             Fnatic            350190   \n",
       "881   2017-11-04 23:33:04             Fnatic            350190   \n",
       "1144  2016-07-14 10:30:48             Fnatic            350190   \n",
       "1145  2016-07-14 09:21:27             Fnatic            350190   \n",
       "1146  2016-07-14 08:23:33             Fnatic            350190   \n",
       "1214  2016-03-05 04:01:09             Fnatic            350190   \n",
       "1215  2016-03-05 02:28:48             Fnatic            350190   \n",
       "1216  2016-03-05 01:25:12             Fnatic            350190   \n",
       "1293  2015-11-17 06:08:33             Fnatic            350190   \n",
       "\n",
       "                                        league_name  leagueid  cluster  \\\n",
       "5            ESL One Malaysia 2022 powered by Intel     14388      152   \n",
       "6            ESL One Malaysia 2022 powered by Intel     14388      156   \n",
       "7            ESL One Malaysia 2022 powered by Intel     14388      155   \n",
       "20           ESL One Malaysia 2022 powered by Intel     14388      156   \n",
       "21           ESL One Malaysia 2022 powered by Intel     14388      152   \n",
       "50                         PGL Arlington Major 2022     14417      121   \n",
       "51                         PGL Arlington Major 2022     14417      122   \n",
       "90    ESL One Stockholm Major 2022 powered by Intel     14173      184   \n",
       "91    ESL One Stockholm Major 2022 powered by Intel     14173      182   \n",
       "92    ESL One Stockholm Major 2022 powered by Intel     14173      187   \n",
       "501                          The International 2019     10749      308   \n",
       "502                          The International 2019     10749      308   \n",
       "563                     MDL Disneyland® Paris Major     10810      134   \n",
       "564                     MDL Disneyland® Paris Major     10810      132   \n",
       "591          ESL One Katowice 2019 powered by Intel     10424      134   \n",
       "592          ESL One Katowice 2019 powered by Intel     10424      134   \n",
       "687                          The International 2018      9870      113   \n",
       "688                          The International 2018      9870      113   \n",
       "713        ESL One Birmingham 2018 powered by Intel      9880      137   \n",
       "714        ESL One Birmingham 2018 powered by Intel      9880      138   \n",
       "715        ESL One Birmingham 2018 powered by Intel      9880      132   \n",
       "767                    Corsair DreamLeague season 9      9683      183   \n",
       "768                    Corsair DreamLeague season 9      9683      184   \n",
       "842                                   Dota Summit 8      5850      111   \n",
       "843                                   Dota Summit 8      5850      111   \n",
       "844                                   Dota Summit 8      5850      111   \n",
       "881                           AMD SAPPHIRE Dota PIT      5690      131   \n",
       "1144                                   The Summit 5      4442      112   \n",
       "1145                                   The Summit 5      4442      111   \n",
       "1146                                   The Summit 5      4442      111   \n",
       "1214                              Winter Major 2016      4266      224   \n",
       "1215                              Winter Major 2016      4266      224   \n",
       "1216                              Winter Major 2016      4266      224   \n",
       "1293                          Dota 2 Majors EU 2015      3671      132   \n",
       "\n",
       "      radiant_win  radiant  duration    match_id  match_outcome  \n",
       "5           False    False      1931  6727040019           True  \n",
       "6           False    False      2719  6726897362           True  \n",
       "7           False     True      2252  6726755759          False  \n",
       "20           True     True      1635  6720651873           True  \n",
       "21          False    False      1537  6720571150           True  \n",
       "50          False    False      1941  6692354598           True  \n",
       "51           True    False      2015  6692259411          False  \n",
       "90          False    False      3846  6578909443           True  \n",
       "91          False     True      2181  6578799684          False  \n",
       "92          False    False      2698  6578674296           True  \n",
       "501         False    False      2166  4971649432           True  \n",
       "502         False    False      2347  4971535610           True  \n",
       "563         False    False      2191  4720366906           True  \n",
       "564         False    False      1700  4720148591           True  \n",
       "591          True     True      1566  4454373838           True  \n",
       "592          True     True      2206  4454198059           True  \n",
       "687          True    False      2303  4064796732          False  \n",
       "688          True     True      1740  4064721264           True  \n",
       "713          True    False      2273  3913692326          False  \n",
       "714         False     True      2472  3913576985          False  \n",
       "715          True     True      2671  3913433059           True  \n",
       "767         False     True      1416  3792442906          False  \n",
       "768          True    False      1907  3792361808          False  \n",
       "842          True    False      2195  3625232006          False  \n",
       "843          True    False      1745  3625160730          False  \n",
       "844          True     True      2100  3625065137           True  \n",
       "881         False    False      1274  3542160201           True  \n",
       "1144        False    False      2487  2502478249           True  \n",
       "1145         True    False      2642  2502428208          False  \n",
       "1146         True     True      1918  2502387920           True  \n",
       "1214         True    False      1750  2197232058          False  \n",
       "1215         True     True      4065  2197006785           True  \n",
       "1216        False     True      2505  2196830083          False  \n",
       "1293        False    False      2184  1940220599           True  "
      ]
     },
     "execution_count": 78,
     "metadata": {},
     "output_type": "execute_result"
    }
   ],
   "source": [
    "team_og_matches_df[team_og_matches_df.opposing_team_id == 350190]"
   ]
  },
  {
   "cell_type": "code",
   "execution_count": 76,
   "id": "bb1898f0-ab6d-4816-bb1c-6c9b9cf5f058",
   "metadata": {},
   "outputs": [
    {
     "data": {
      "text/plain": [
       "(1335, 11)"
      ]
     },
     "execution_count": 76,
     "metadata": {},
     "output_type": "execute_result"
    }
   ],
   "source": [
    "team_og_matches_df.shape"
   ]
  },
  {
   "cell_type": "code",
   "execution_count": 129,
   "id": "3372b719-0172-414f-b7d2-5400d410ad89",
   "metadata": {},
   "outputs": [
    {
     "name": "stdout",
     "output_type": "stream",
     "text": [
      "<Response [200]>\n",
      "<Response [200]>\n",
      "<Response [200]>\n",
      "<Response [200]>\n",
      "<Response [200]>\n",
      "<Response [200]>\n",
      "<Response [200]>\n",
      "<Response [200]>\n",
      "<Response [200]>\n",
      "<Response [200]>\n"
     ]
    }
   ],
   "source": [
    "teams = get_player_account_id_from_match_id(6727040019, False)"
   ]
  },
  {
   "cell_type": "code",
   "execution_count": 132,
   "id": "cc439319-4f16-4fed-843b-a9201044d7d4",
   "metadata": {},
   "outputs": [
    {
     "data": {
      "text/plain": [
       "[{'name': 'AMMAR_THE_F',\n",
       "  'account_id': 183719386,\n",
       "  'mmr_estimate': 5675,\n",
       "  'rank_tier': 80,\n",
       "  'leaderboard_rank': 14,\n",
       "  'solo_competitive_rank': 3333},\n",
       " {'name': 'Chu',\n",
       "  'account_id': 117483894,\n",
       "  'mmr_estimate': 6368,\n",
       "  'rank_tier': 80,\n",
       "  'leaderboard_rank': 314,\n",
       "  'solo_competitive_rank': 7693},\n",
       " {'name': 'bzm',\n",
       "  'account_id': 93618577,\n",
       "  'mmr_estimate': 6268,\n",
       "  'rank_tier': 80,\n",
       "  'leaderboard_rank': 10,\n",
       "  'solo_competitive_rank': 5338},\n",
       " {'name': 'Yuragi',\n",
       "  'account_id': 167976729,\n",
       "  'mmr_estimate': 6233,\n",
       "  'rank_tier': 80,\n",
       "  'leaderboard_rank': 6,\n",
       "  'solo_competitive_rank': 5351},\n",
       " {'name': 'Taiga',\n",
       "  'account_id': 401792574,\n",
       "  'mmr_estimate': 6386,\n",
       "  'rank_tier': 80,\n",
       "  'leaderboard_rank': 48,\n",
       "  'solo_competitive_rank': 6261}]"
      ]
     },
     "execution_count": 132,
     "metadata": {},
     "output_type": "execute_result"
    }
   ],
   "source": [
    "teams['prediction_team']"
   ]
  },
  {
   "cell_type": "code",
   "execution_count": null,
   "id": "7c40856e-04a8-45c7-969c-71a1d119680d",
   "metadata": {},
   "outputs": [],
   "source": []
  }
 ],
 "metadata": {
  "kernelspec": {
   "display_name": "Python 3 (ipykernel)",
   "language": "python",
   "name": "python3"
  },
  "language_info": {
   "codemirror_mode": {
    "name": "ipython",
    "version": 3
   },
   "file_extension": ".py",
   "mimetype": "text/x-python",
   "name": "python",
   "nbconvert_exporter": "python",
   "pygments_lexer": "ipython3",
   "version": "3.10.6"
  }
 },
 "nbformat": 4,
 "nbformat_minor": 5
}
