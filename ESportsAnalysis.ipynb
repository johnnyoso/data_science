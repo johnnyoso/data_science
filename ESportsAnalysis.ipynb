{
 "cells": [
  {
   "cell_type": "code",
   "execution_count": 1,
   "id": "1c9832a4",
   "metadata": {
    "tags": []
   },
   "outputs": [],
   "source": [
    "import json\n",
    "import requests\n",
    "import re\n",
    "from IPython import display\n",
    "from datetime import datetime\n",
    "import firebase_admin\n",
    "from firebase_admin import credentials\n",
    "from firebase_admin import firestore"
   ]
  },
  {
   "cell_type": "code",
   "execution_count": 23,
   "id": "deb755b0",
   "metadata": {},
   "outputs": [],
   "source": [
    "FIREBASE_PRIVATE_KEY = r'C:\\Users\\johnp\\Documents\\ESportsAnalytics\\esportsanalytics-3b04cf0c1d47.json'\n",
    "BASE_URL = 'https://api.opendota.com/api/'\n",
    "TEAMS = 'teams'\n",
    "HEROES = 'heroes'\n",
    "PROPLAYERS = 'proPlayers'\n",
    "MATCHES = 'matches'"
   ]
  },
  {
   "cell_type": "code",
   "execution_count": 3,
   "id": "302bb65d",
   "metadata": {},
   "outputs": [],
   "source": [
    "# Connect to Firebase and return a database instance\n",
    "def connecttofirebase(PATH):\n",
    "    \n",
    "    # Check if the app is already initialised, if not then connect\n",
    "    if not firebase_admin._apps:\n",
    "        cred = credentials.Certificate(FIREBASE_PRIVATE_KEY)\n",
    "        firebase_admin.initialize_app(cred)\n",
    "    \n",
    "    # Get an instance of the project database\n",
    "    db = firestore.client()\n",
    "    \n",
    "    return db"
   ]
  },
  {
   "cell_type": "code",
   "execution_count": 4,
   "id": "4faad929",
   "metadata": {},
   "outputs": [],
   "source": [
    "db = connecttofirebase(FIREBASE_PRIVATE_KEY)"
   ]
  },
  {
   "cell_type": "code",
   "execution_count": 5,
   "id": "9faa2efc",
   "metadata": {},
   "outputs": [
    {
     "data": {
      "text/plain": [
       "'esportsanalytics'"
      ]
     },
     "execution_count": 5,
     "metadata": {},
     "output_type": "execute_result"
    }
   ],
   "source": [
    "db.project"
   ]
  },
  {
   "cell_type": "code",
   "execution_count": 64,
   "id": "9ff45e86-58d2-42da-8379-9a8d40afc2fd",
   "metadata": {},
   "outputs": [
    {
     "name": "stdout",
     "output_type": "stream",
     "text": [
      "a0\n",
      "b1\n",
      "c2\n"
     ]
    }
   ],
   "source": [
    "TODO: Simplify codes to basic ones e.g. update_document(), check"
   ]
  },
  {
   "cell_type": "code",
   "execution_count": 66,
   "id": "d8354555-fe52-4614-ad47-27a7a7e47f65",
   "metadata": {},
   "outputs": [
    {
     "name": "stdout",
     "output_type": "stream",
     "text": [
      "All Teams data uploaded to Firebase\n"
     ]
    }
   ],
   "source": [
    "# Do these if data doesn't exist yet or is not up to date\n",
    "response = requests.get(BASE_URL + PROPLAYERS)\n",
    "\n",
    "try:\n",
    "    pro_players_data_json = json.loads(response.content.decode('utf-8'))\n",
    "\n",
    "except requests.exceptions.Timeout:\n",
    "    print('request is taking too long to complete, possible timeout, getting old data from Firebase')\n",
    "\n",
    "except requests.exceptions.RequestException as e:\n",
    "    raise SystemExit(e)\n",
    "\n",
    "else:\n",
    "    \n",
    "    pro_players_split = [\n",
    "        {u'all_pro_players_info_1' : pro_players_data_json[0:1000], u'date_time_upload' : datetime.now().strftime(\"%m/%d/%Y, %H:%M:%S\"),},\n",
    "        {u'all_pro_players_info_2' : pro_players_data_json[1000:2000], u'date_time_upload' : datetime.now().strftime(\"%m/%d/%Y, %H:%M:%S\"),},\n",
    "        {u'all_pro_players_info_3' : pro_players_data_json[2000:], u'date_time_upload' : datetime.now().strftime(\"%m/%d/%Y, %H:%M:%S\"),},\n",
    "        \n",
    "    ]\n",
    "\n",
    "    for index, data in enumerate(pro_players_split):\n",
    "        pro_players_ref = db.collection(u'dota').document(u'all_pro_players_'+str(index)).set(data)\n",
    "    \n",
    "    print(\"All Teams data uploaded to Firebase\")\n",
    "    "
   ]
  },
  {
   "cell_type": "code",
   "execution_count": 62,
   "id": "0164c049-2906-408e-aa21-5272ea340621",
   "metadata": {},
   "outputs": [],
   "source": [
    "# Save the JSON as a file in the working directory\n",
    "with open('pro_players_data.json', 'w', encoding='utf-8') as f:\n",
    "    json.dump(pro_players_data_json[0:1000], f, ensure_ascii=False, indent=4)"
   ]
  },
  {
   "cell_type": "code",
   "execution_count": 25,
   "id": "32d0974b-f638-4891-927b-48d846ce4d92",
   "metadata": {},
   "outputs": [],
   "source": [
    "def get_all_pro_players():\n",
    "    # check if data already exist in Firebase\n",
    "    doc_ref = db.collection(u'dota').document(u'all_pro_players')\n",
    "    doc = doc_ref.get()\n",
    "    \n",
    "    data_exist = doc.exists\n",
    "    \n",
    "    # If it exists, check the age of the data\n",
    "    if(data_exist):\n",
    "        print(\"All Pro Players already exist in Fireabse\")\n",
    "        \n",
    "        datetime_upload_str = doc.to_dict()['date_time_upload']\n",
    "        datetime_upload = datetime.strptime(datetime_upload_str, \"%m/%d/%Y, %H:%M:%S\")\n",
    "        \n",
    "        # subtracting two datetime objects result in a datetime.timedelta object\n",
    "        data_age_timedelta = datetime.now() - datetime_upload\n",
    "        data_age_in_days = data_age_timedelta.total_seconds() / 86400\n",
    "        \n",
    "        print(\"All Pro Players Info is:\", data_age_in_days, \"days old\")\n",
    "        \n",
    "        # Decide when to do a proper data sync / update depending on data age\n",
    "        if (data_age_in_days > 1):\n",
    "            print(\"Data is more than 1 day old, resyncing from OpenDota......\")\n",
    "            \n",
    "            # Do these if data doesn't exist yet or is not up to date\n",
    "            response = requests.get(BASE_URL + PROPLAYERS)\n",
    "\n",
    "            try:\n",
    "                pro_players_data_json = json.loads(response.content.decode('utf-8'))\n",
    "\n",
    "            except requests.exceptions.Timeout:\n",
    "                print('request is taking too long to complete, possible timeout, getting old data from Firebase')\n",
    "\n",
    "            except requests.exceptions.RequestException as e:\n",
    "                raise SystemExit(e)\n",
    "            \n",
    "            else:\n",
    "                 pro_players_split = [\n",
    "                    {u'all_pro_players_info_1' : pro_players_data_json[0:1000], u'date_time_upload' : datetime.now().strftime(\"%m/%d/%Y, %H:%M:%S\"),},\n",
    "                    {u'all_pro_players_info_2' : pro_players_data_json[1000:2000], u'date_time_upload' : datetime.now().strftime(\"%m/%d/%Y, %H:%M:%S\"),},\n",
    "                    {u'all_pro_players_info_3' : pro_players_data_json[2000:], u'date_time_upload' : datetime.now().strftime(\"%m/%d/%Y, %H:%M:%S\"),},\n",
    "\n",
    "                ]\n",
    "\n",
    "                for index, data in enumerate(pro_players_split):\n",
    "                    pro_players_ref = db.collection(u'dota').document(u'all_pro_players_'+str(index)).set(data)\n",
    "                \n",
    "    \n",
    "        # Get the data from Firebase\n",
    "        pro_players_data_json = doc.to_dict()['all_heroes_info']\n",
    "        \n",
    "        return pro_players_data_json"
   ]
  },
  {
   "cell_type": "code",
   "execution_count": 7,
   "id": "c07e4615-9fa9-4794-a6fc-1acee4bf680b",
   "metadata": {},
   "outputs": [],
   "source": [
    "# Get information on all professional dota teams\n",
    "def get_all_heroes_info():\n",
    "    \n",
    "    # check if data already exist in Firebase\n",
    "    doc_ref = db.collection(u'dota').document(u'all_heroes')\n",
    "    doc = doc_ref.get()\n",
    "    \n",
    "    data_exist = doc.exists\n",
    "    \n",
    "    # If it exists, check the age of the data\n",
    "    if(data_exist):\n",
    "        print(\"All Heroes already exist in Fireabse\")\n",
    "        \n",
    "        datetime_upload_str = doc.to_dict()['date_time_upload']\n",
    "        datetime_upload = datetime.strptime(datetime_upload_str, \"%m/%d/%Y, %H:%M:%S\")\n",
    "        \n",
    "        # subtracting two datetime objects result in a datetime.timedelta object\n",
    "        data_age_timedelta = datetime.now() - datetime_upload\n",
    "        data_age_in_days = data_age_timedelta.total_seconds() / 86400\n",
    "        \n",
    "        print(\"All Heroes Info is:\", data_age_in_days, \"days old\")\n",
    "        \n",
    "        # Decide when to do a proper data sync / update depending on data age\n",
    "        if (data_age_in_days > 1):\n",
    "            print(\"Data is more than 1 day old, resyncing from OpenDota......\")\n",
    "            \n",
    "            # Do these if data doesn't exist yet or is not up to date\n",
    "            response = requests.get(BASE_URL + HEROES)\n",
    "\n",
    "            try:\n",
    "                heroes_data_json = json.loads(response.content.decode('utf-8'))\n",
    "\n",
    "            except requests.exceptions.Timeout:\n",
    "                print('request is taking too long to complete, possible timeout, getting old data from Firebase')\n",
    "\n",
    "            except requests.exceptions.RequestException as e:\n",
    "                raise SystemExit(e)\n",
    "            \n",
    "            else:\n",
    "                # upload the team_data_json in Firebase if there are no errors\n",
    "                data = {\n",
    "                    u'date_time_upload' : datetime.now().strftime(\"%m/%d/%Y, %H:%M:%S\"),\n",
    "                    u'all_heroes_info' : heroes_data_json\n",
    "                }\n",
    "\n",
    "                db.collection(u'dota').document(u'all_heroes').set(data)\n",
    "                print(\"All Teams data uploaded to Firebase\")\n",
    "                \n",
    "    \n",
    "        # Get the data from Firebase\n",
    "        heroes_data_json = doc.to_dict()['all_heroes_info']\n",
    "        return heroes_data_json"
   ]
  },
  {
   "cell_type": "code",
   "execution_count": 8,
   "id": "5a376ed9",
   "metadata": {
    "tags": []
   },
   "outputs": [],
   "source": [
    "# Get information on all professional dota teams\n",
    "def get_all_teams_info():\n",
    "    \n",
    "    # check if data already exist in Firebase\n",
    "    doc_ref = db.collection(u'dota').document(u'all_teams')\n",
    "    doc = doc_ref.get()\n",
    "    \n",
    "    data_exist = doc.exists\n",
    "    \n",
    "    # If it exists, check the age of the data\n",
    "    if(data_exist):\n",
    "        print(\"All Teams already exist in Fireabse\")\n",
    "        \n",
    "        datetime_upload_str = doc.to_dict()['date_time_upload']\n",
    "        datetime_upload = datetime.strptime(datetime_upload_str, \"%m/%d/%Y, %H:%M:%S\")\n",
    "        \n",
    "        # subtracting two datetime objects result in a datetime.timedelta object\n",
    "        data_age_timedelta = datetime.now() - datetime_upload\n",
    "        data_age_in_days = data_age_timedelta.total_seconds() / 86400\n",
    "        \n",
    "        print(\"All Teams Info is:\", data_age_in_days, \"days old\")\n",
    "        \n",
    "        # Decide when to do a proper data sync / update depending on data age\n",
    "        if (data_age_in_days > 1):\n",
    "            print(\"Data is more than 1 day old, resyncing from OpenDota......\")\n",
    "            \n",
    "            # Do these if data doesn't exist yet or is not up to date\n",
    "            response = requests.get(BASE_URL + TEAMS)\n",
    "\n",
    "            try:\n",
    "                team_data_json = json.loads(response.content.decode('utf-8'))\n",
    "\n",
    "            except requests.exceptions.Timeout:\n",
    "                print('request is taking too long to complete, possible timeout, getting old data from Firebase')\n",
    "\n",
    "            except requests.exceptions.RequestException as e:\n",
    "                raise SystemExit(e)\n",
    "            \n",
    "            else:\n",
    "                # upload the team_data_json in Firebase if there are no errors\n",
    "                data = {\n",
    "                    u'date_time_upload' : datetime.now().strftime(\"%m/%d/%Y, %H:%M:%S\"),\n",
    "                    u'all_teams_info' : team_data_json\n",
    "                }\n",
    "\n",
    "                db.collection(u'dota').document(u'all_teams').set(data)\n",
    "                print(\"All Teams data uploaded to Firebase\")\n",
    "                \n",
    "    \n",
    "        # Get the data from Firebase\n",
    "        team_data_json = doc.to_dict()['all_teams_info']\n",
    "        return team_data_json"
   ]
  },
  {
   "cell_type": "code",
   "execution_count": 9,
   "id": "d70f5092-1f84-40e6-b9cc-98c18d3d86da",
   "metadata": {},
   "outputs": [],
   "source": [
    "def get_all_players():\n",
    "    return 0"
   ]
  },
  {
   "cell_type": "code",
   "execution_count": 10,
   "id": "31c5f58a",
   "metadata": {},
   "outputs": [
    {
     "name": "stdout",
     "output_type": "stream",
     "text": [
      "All Teams already exist in Fireabse\n",
      "All Teams Info is: 0.9682175185185186 days old\n"
     ]
    }
   ],
   "source": [
    "team_data_json = get_all_teams_info()"
   ]
  },
  {
   "cell_type": "code",
   "execution_count": 14,
   "id": "a37aacd3-17dd-4982-962d-ac13489e1af1",
   "metadata": {},
   "outputs": [],
   "source": [
    "def search_regex(search_string, team_from_list):\n",
    "    try:\n",
    "        x = re.search(search_string, team_from_list, re.IGNORECASE).group()\n",
    "    except Exception:\n",
    "        return False\n",
    "    return x"
   ]
  },
  {
   "cell_type": "code",
   "execution_count": 15,
   "id": "b3083155-2141-4bd3-9f8d-66a99632531c",
   "metadata": {},
   "outputs": [],
   "source": [
    "def search_team(team_name):\n",
    "    team_filter =  filter(lambda y: search_regex(team_name, y['name']), team_data_json)\n",
    "    return [team_info for team_info in team_filter]"
   ]
  },
  {
   "cell_type": "code",
   "execution_count": 16,
   "id": "4fe417c7-7b43-42d5-a40b-82479151f588",
   "metadata": {},
   "outputs": [],
   "source": [
    "x = search_team('team')"
   ]
  },
  {
   "cell_type": "code",
   "execution_count": 17,
   "id": "a7fa8954-9ff2-48bd-88ac-32524e20b52c",
   "metadata": {},
   "outputs": [
    {
     "name": "stdout",
     "output_type": "stream",
     "text": [
      "All Heroes already exist in Fireabse\n",
      "All Heroes Info is: 0.9533700312152777 days old\n"
     ]
    }
   ],
   "source": [
    "heroes = get_all_heroes_info()"
   ]
  },
  {
   "cell_type": "code",
   "execution_count": 21,
   "id": "b4566fac-5ab8-4de2-8680-bc836a132e65",
   "metadata": {},
   "outputs": [],
   "source": [
    "pro_players = get_all_pro_players()"
   ]
  },
  {
   "cell_type": "code",
   "execution_count": 32,
   "id": "916e6ca6-b4f1-4d3e-9606-6a6bedf55e57",
   "metadata": {},
   "outputs": [],
   "source": [
    "with open('all_teams_data.json', 'w', encoding='utf-8') as f:\n",
    "    json.dump(team_data_json, f, ensure_ascii=False, indent=4)"
   ]
  },
  {
   "cell_type": "code",
   "execution_count": null,
   "id": "7453a2a3-9f14-4c65-8820-d319ea8a59e8",
   "metadata": {},
   "outputs": [],
   "source": []
  }
 ],
 "metadata": {
  "kernelspec": {
   "display_name": "Python 3 (ipykernel)",
   "language": "python",
   "name": "python3"
  },
  "language_info": {
   "codemirror_mode": {
    "name": "ipython",
    "version": 3
   },
   "file_extension": ".py",
   "mimetype": "text/x-python",
   "name": "python",
   "nbconvert_exporter": "python",
   "pygments_lexer": "ipython3",
   "version": "3.10.6"
  }
 },
 "nbformat": 4,
 "nbformat_minor": 5
}
