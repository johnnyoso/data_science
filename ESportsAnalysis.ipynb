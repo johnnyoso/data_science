{
 "cells": [
  {
   "cell_type": "code",
   "execution_count": 1,
   "id": "1c9832a4",
   "metadata": {
    "tags": []
   },
   "outputs": [],
   "source": [
    "import json\n",
    "import requests\n",
    "import re\n",
    "from IPython import display\n",
    "from datetime import datetime\n",
    "import firebase_admin\n",
    "from firebase_admin import credentials\n",
    "from firebase_admin import firestore\n",
    "import pandas as pd\n",
    "import openpyxl"
   ]
  },
  {
   "cell_type": "code",
   "execution_count": 2,
   "id": "deb755b0",
   "metadata": {},
   "outputs": [],
   "source": [
    "FIREBASE_PRIVATE_KEY = r'C:\\Users\\johnp\\Documents\\ESportsAnalytics\\esportsanalytics-3b04cf0c1d47.json'\n",
    "BASE_URL = 'https://api.opendota.com/api/'\n",
    "TEAMS = 'teams'\n",
    "HEROES = 'heroes'\n",
    "PROPLAYERS = 'proPlayers'\n",
    "PROMATCHES = 'proMatches'\n",
    "MATCHES = 'matches'\n",
    "PLAYERS = 'players'\n",
    "HEROES_STATS = 'heroStats'\n"
   ]
  },
  {
   "cell_type": "code",
   "execution_count": 3,
   "id": "302bb65d",
   "metadata": {},
   "outputs": [],
   "source": [
    "# Connect to Firebase and return a database instance\n",
    "def connecttofirebase(PATH):\n",
    "    \n",
    "    # Check if the app is already initialised, if not then connect\n",
    "    if not firebase_admin._apps:\n",
    "        cred = credentials.Certificate(FIREBASE_PRIVATE_KEY)\n",
    "        firebase_admin.initialize_app(cred)\n",
    "    \n",
    "    # Get an instance of the project database\n",
    "    db = firestore.client()\n",
    "    \n",
    "    return db"
   ]
  },
  {
   "cell_type": "code",
   "execution_count": 4,
   "id": "4faad929",
   "metadata": {},
   "outputs": [],
   "source": [
    "db = connecttofirebase(FIREBASE_PRIVATE_KEY)"
   ]
  },
  {
   "cell_type": "code",
   "execution_count": 5,
   "id": "9faa2efc",
   "metadata": {},
   "outputs": [
    {
     "data": {
      "text/plain": [
       "'esportsanalytics'"
      ]
     },
     "execution_count": 5,
     "metadata": {},
     "output_type": "execute_result"
    }
   ],
   "source": [
    "db.project"
   ]
  },
  {
   "cell_type": "markdown",
   "id": "38bf4894-2342-4551-9646-6f048e80118f",
   "metadata": {},
   "source": [
    "# Data Extraction"
   ]
  },
  {
   "cell_type": "code",
   "execution_count": 6,
   "id": "9cf8925a-9ac7-4c98-bc13-8a2d52d09e20",
   "metadata": {
    "tags": []
   },
   "outputs": [],
   "source": [
    "def get_all_teams_from_firebase():\n",
    "    \n",
    "     # get the data from Firebase\n",
    "    doc_ref = db.collection(u'dota').document(u'all_teams')\n",
    "    doc = doc_ref.get()\n",
    "    \n",
    "    # get the upload time from Firebase\n",
    "    datetime_upload_str = doc.to_dict()['date_time_upload']\n",
    "    datetime_upload = datetime.strptime(datetime_upload_str, \"%m/%d/%Y, %H:%M:%S\")\n",
    "\n",
    "    # subtracting two datetime objects result in a datetime.timedelta object\n",
    "    data_age_timedelta = datetime.now() - datetime_upload\n",
    "    data_age_in_days = data_age_timedelta.total_seconds() / 86400\n",
    "    \n",
    "    print('Data is:', data_age_in_days, 'old')\n",
    "    \n",
    "    # Get the data from Firebase\n",
    "    team_data_json = doc.to_dict()['all_teams_info']\n",
    "    \n",
    "    return team_data_json"
   ]
  },
  {
   "cell_type": "code",
   "execution_count": 7,
   "id": "1c5d2455-a8a0-4b3d-80ed-d36ca6fe6288",
   "metadata": {
    "tags": []
   },
   "outputs": [],
   "source": [
    "def get_all_teams_from_opendota():\n",
    "    \n",
    "    response = requests.get(BASE_URL + TEAMS)\n",
    "\n",
    "    try:\n",
    "        team_data_json = json.loads(response.content.decode('utf-8'))\n",
    "\n",
    "    except requests.exceptions.Timeout:\n",
    "        print('request is taking too long to complete, possible timeout, getting old data from Firebase')\n",
    "\n",
    "    except requests.exceptions.RequestException as e:\n",
    "        raise SystemExit(e)\n",
    "    \n",
    "    else:\n",
    "        return team_data_json\n",
    "    \n",
    "    return 0"
   ]
  },
  {
   "cell_type": "code",
   "execution_count": 8,
   "id": "7a11098c-2ebc-439e-bcc5-50eb8ddc0282",
   "metadata": {
    "tags": []
   },
   "outputs": [],
   "source": [
    "def update_all_teams_in_firebase():\n",
    "    \n",
    "    response = requests.get(BASE_URL + TEAMS)\n",
    "\n",
    "    try:\n",
    "        team_data_json = json.loads(response.content.decode('utf-8'))\n",
    "\n",
    "    except requests.exceptions.Timeout:\n",
    "        print('request is taking too long to complete, possible timeout, getting old data from Firebase')\n",
    "\n",
    "    except requests.exceptions.RequestException as e:\n",
    "        raise SystemExit(e)\n",
    "\n",
    "    else:\n",
    "        # upload the team_data_json in Firebase if there are no errors\n",
    "        data = {\n",
    "            u'date_time_upload' : datetime.now().strftime(\"%m/%d/%Y, %H:%M:%S\"),\n",
    "            u'all_teams_info' : team_data_json\n",
    "        }\n",
    "\n",
    "        db.collection(u'dota').document(u'all_teams').set(data)\n",
    "        print(\"All Teams data updated in Firebase\")"
   ]
  },
  {
   "cell_type": "code",
   "execution_count": 9,
   "id": "0164c049-2906-408e-aa21-5272ea340621",
   "metadata": {
    "tags": []
   },
   "outputs": [],
   "source": [
    "# Save the JSON as a file in the working directory\n",
    "def save_all_teams_data_to_file(all_teams_data_json):\n",
    "    \n",
    "    with open('all_teams_data.json', 'w', encoding='utf-8') as f:\n",
    "        json.dump(all_teams_data_json, f, ensure_ascii=False, indent=4)"
   ]
  },
  {
   "cell_type": "code",
   "execution_count": 10,
   "id": "a02f1f77-0711-4a3c-8e75-ea2fb3a8555a",
   "metadata": {
    "tags": []
   },
   "outputs": [],
   "source": [
    "def get_all_heroes_from_firebase():\n",
    "    \n",
    "    # get the data from Firebase\n",
    "    doc_ref = db.collection(u'dota').document(u'all_heroes')\n",
    "    doc = doc_ref.get()\n",
    "    \n",
    "    # get the upload time from Firebase\n",
    "    datetime_upload_str = doc.to_dict()['date_time_upload']\n",
    "    datetime_upload = datetime.strptime(datetime_upload_str, \"%m/%d/%Y, %H:%M:%S\")\n",
    "\n",
    "    # subtracting two datetime objects result in a datetime.timedelta object\n",
    "    data_age_timedelta = datetime.now() - datetime_upload\n",
    "    data_age_in_days = data_age_timedelta.total_seconds() / 86400\n",
    "    \n",
    "    print('Data is:', data_age_in_days, 'old')\n",
    "    \n",
    "    # Get the data from Firebase\n",
    "    heroes_data_json = doc.to_dict()['all_heroes_info']\n",
    "    \n",
    "    return heroes_data_json"
   ]
  },
  {
   "cell_type": "code",
   "execution_count": 11,
   "id": "33f690bb-b45c-4cc3-b0d1-b1de44f18759",
   "metadata": {
    "tags": []
   },
   "outputs": [],
   "source": [
    "def get_all_heroes_from_opendota():\n",
    "    response = requests.get(BASE_URL + HEROES)\n",
    "\n",
    "    try:\n",
    "        heroes_data_json = json.loads(response.content.decode('utf-8'))\n",
    "\n",
    "    except requests.exceptions.Timeout:\n",
    "        print('request is taking too long to complete, possible timeout, getting old data from Firebase')\n",
    "\n",
    "    except requests.exceptions.RequestException as e:\n",
    "        raise SystemExit(e)\n",
    "    \n",
    "    else:\n",
    "        return heroes_data_json\n",
    "    \n",
    "    return 0"
   ]
  },
  {
   "cell_type": "code",
   "execution_count": 12,
   "id": "235702b5-779f-4083-85c9-bfbf09cdb101",
   "metadata": {
    "tags": []
   },
   "outputs": [],
   "source": [
    "def update_all_heroes_in_firebase():\n",
    "    \n",
    "    response = requests.get(BASE_URL + HEROES)\n",
    "\n",
    "    try:\n",
    "        heroes_data_json = json.loads(response.content.decode('utf-8'))\n",
    "\n",
    "    except requests.exceptions.Timeout:\n",
    "        print('request is taking too long to complete, possible timeout, getting old data from Firebase')\n",
    "\n",
    "    except requests.exceptions.RequestException as e:\n",
    "        raise SystemExit(e)\n",
    "\n",
    "    else:\n",
    "        # upload the team_data_json in Firebase if there are no errors\n",
    "        data = {\n",
    "            u'date_time_upload' : datetime.now().strftime(\"%m/%d/%Y, %H:%M:%S\"),\n",
    "            u'all_teams_info' : heroes_data_json\n",
    "        }\n",
    "\n",
    "        db.collection(u'dota').document(u'all_heroes').set(data)\n",
    "        print(\"All Heroes data updated in Firebase\")"
   ]
  },
  {
   "cell_type": "code",
   "execution_count": 13,
   "id": "2c23f8a4-3eb9-414f-a67a-cc560c6419fa",
   "metadata": {
    "tags": []
   },
   "outputs": [],
   "source": [
    "# Save the JSON as a file in the working directory\n",
    "def save_all_heroes_data_to_file(all_heroes_data_json):\n",
    "    \n",
    "    with open('all_heroes_data.json', 'w', encoding='utf-8') as f:\n",
    "        json.dump(all_heroes_data_json, f, ensure_ascii=False, indent=4)"
   ]
  },
  {
   "cell_type": "code",
   "execution_count": 14,
   "id": "7c4a1dc4-76de-49b9-a9ed-d1189876dc69",
   "metadata": {
    "tags": []
   },
   "outputs": [],
   "source": [
    "def get_all_pro_players_in_opendota():\n",
    "    \n",
    "    response = requests.get(BASE_URL + PROPLAYERS)\n",
    "\n",
    "    try:\n",
    "        all_pro_players_data_json = json.loads(response.content.decode('utf-8'))\n",
    "\n",
    "    except requests.exceptions.Timeout:\n",
    "        print('request is taking too long to complete, possible timeout, getting old data from Firebase')\n",
    "\n",
    "    except requests.exceptions.RequestException as e:\n",
    "        raise SystemExit(e)\n",
    "        \n",
    "    else:\n",
    "        return all_pro_players_data_json\n",
    "    \n",
    "    return 0"
   ]
  },
  {
   "cell_type": "code",
   "execution_count": 15,
   "id": "50fc753e-920e-41b6-9873-f998c2ee8dcf",
   "metadata": {
    "tags": []
   },
   "outputs": [],
   "source": [
    "def get_all_pro_players_in_firebase():\n",
    "    all_pro_players_data_json = []\n",
    "    \n",
    "    firebase_doc_list = [\n",
    "        u'all_pro_players_1',\n",
    "        u'all_pro_players_2',\n",
    "        u'all_pro_players_3'\n",
    "    ]\n",
    "    \n",
    "    for index, item in enumerate(firebase_doc_list):\n",
    "        \n",
    "        doc_ref = db.collection(u'dota').document(item)\n",
    "        doc = doc_ref.get()\n",
    "        \n",
    "        # Get the data from Firebase\n",
    "        all_pro_players_data_json += doc.to_dict()['all_pro_players_info_'+str(index+1)]\n",
    "    \n",
    "    return all_pro_players_data_json"
   ]
  },
  {
   "cell_type": "code",
   "execution_count": 16,
   "id": "d8354555-fe52-4614-ad47-27a7a7e47f65",
   "metadata": {
    "tags": []
   },
   "outputs": [],
   "source": [
    "def update_all_pro_players_in_firebase():\n",
    "\n",
    "    # Do these if data doesn't exist yet or is not up to date\n",
    "    response = requests.get(BASE_URL + PROPLAYERS)\n",
    "\n",
    "    try:\n",
    "        pro_players_data_json = json.loads(response.content.decode('utf-8'))\n",
    "\n",
    "    except requests.exceptions.Timeout:\n",
    "        print('request is taking too long to complete, possible timeout, getting old data from Firebase')\n",
    "\n",
    "    except requests.exceptions.RequestException as e:\n",
    "        raise SystemExit(e)\n",
    "\n",
    "    else:\n",
    "\n",
    "        pro_players_split = [\n",
    "            {u'all_pro_players_info_1' : pro_players_data_json[0:1000], u'date_time_upload' : datetime.now().strftime(\"%m/%d/%Y, %H:%M:%S\"),},\n",
    "            {u'all_pro_players_info_2' : pro_players_data_json[1000:2000], u'date_time_upload' : datetime.now().strftime(\"%m/%d/%Y, %H:%M:%S\"),},\n",
    "            {u'all_pro_players_info_3' : pro_players_data_json[2000:], u'date_time_upload' : datetime.now().strftime(\"%m/%d/%Y, %H:%M:%S\"),},\n",
    "\n",
    "        ]\n",
    "\n",
    "        for index, data in enumerate(pro_players_split):\n",
    "            pro_players_ref = db.collection(u'dota').document(u'all_pro_players_'+str(index+1)).set(data)\n",
    "\n",
    "        print(\"All Pro Players data updated in Firebase\")\n",
    "    "
   ]
  },
  {
   "cell_type": "code",
   "execution_count": 17,
   "id": "e27e6dbb-0038-4768-9b61-f90577c6c545",
   "metadata": {
    "tags": []
   },
   "outputs": [],
   "source": [
    "# Save the JSON as a file in the working directory\n",
    "def save_all_pro_players_data_to_file(all_pro_players_data_json):\n",
    "    \n",
    "    with open('all_pro_players_data.json', 'w', encoding='utf-8') as f:\n",
    "        json.dump(all_pro_players_data_json, f, ensure_ascii=False, indent=4)"
   ]
  },
  {
   "cell_type": "code",
   "execution_count": 18,
   "id": "87b6a2bf-dff2-408f-838c-2f2e01a5d69b",
   "metadata": {},
   "outputs": [],
   "source": [
    "def get_opendota_api_info():\n",
    "    \n",
    "    response = requests.get(BASE_URL)\n",
    "\n",
    "    try:\n",
    "        opendota_api_data_json = json.loads(response.content.decode('utf-8'))\n",
    "\n",
    "    except requests.exceptions.Timeout:\n",
    "        print('request is taking too long to complete, possible timeout, getting old data from Firebase')\n",
    "\n",
    "    except requests.exceptions.RequestException as e:\n",
    "        raise SystemExit(e)\n",
    "        \n",
    "    else:\n",
    "        return opendota_api_data_json\n",
    "    \n",
    "    return 0"
   ]
  },
  {
   "cell_type": "code",
   "execution_count": 19,
   "id": "5511624e-2b7e-42bd-8674-561450132e7f",
   "metadata": {},
   "outputs": [],
   "source": [
    "def get_match_info(match_id):\n",
    "    response = requests.get(BASE_URL + MATCHES + '/' + str(match_id))\n",
    "\n",
    "    try:\n",
    "        match_info_json = json.loads(response.content.decode('utf-8'))\n",
    "\n",
    "    except requests.exceptions.Timeout:\n",
    "        print('request is taking too long to complete, possible timeout, getting old data from Firebase')\n",
    "\n",
    "    except requests.exceptions.RequestException as e:\n",
    "        raise SystemExit(e)\n",
    "        \n",
    "    else:\n",
    "        return match_info_json\n",
    "    \n",
    "    return 0"
   ]
  },
  {
   "cell_type": "code",
   "execution_count": 20,
   "id": "8dde5ef7-5ade-486f-b464-22b75fb48f4a",
   "metadata": {},
   "outputs": [],
   "source": [
    "def get_all_heroes_stats():\n",
    "    response = requests.get(BASE_URL + HEROES_STATS)\n",
    "\n",
    "    try:\n",
    "        all_heroes_stats_data_json = json.loads(response.content.decode('utf-8'))\n",
    "\n",
    "    except requests.exceptions.Timeout:\n",
    "        print('request is taking too long to complete, possible timeout, getting old data from Firebase')\n",
    "\n",
    "    except requests.exceptions.RequestException as e:\n",
    "        raise SystemExit(e)\n",
    "        \n",
    "    else:\n",
    "        return all_heroes_stats_data_json\n",
    "    \n",
    "    return 0"
   ]
  },
  {
   "cell_type": "markdown",
   "id": "43ddc606-3d2e-4600-8e2b-1ffd326ea497",
   "metadata": {},
   "source": [
    "# Data Search"
   ]
  },
  {
   "cell_type": "code",
   "execution_count": 21,
   "id": "a37aacd3-17dd-4982-962d-ac13489e1af1",
   "metadata": {},
   "outputs": [],
   "source": [
    "def search_regex(search_string, name_from_list):\n",
    "    try:\n",
    "        x = re.search(search_string, name_from_list, re.IGNORECASE).group()\n",
    "    except Exception:\n",
    "        return False\n",
    "    return x"
   ]
  },
  {
   "cell_type": "code",
   "execution_count": 22,
   "id": "b3083155-2141-4bd3-9f8d-66a99632531c",
   "metadata": {},
   "outputs": [],
   "source": [
    "def search_item(item_to_search, item_key, data_source):\n",
    "    item_filter =  filter(lambda y: search_regex(item_to_search, y[item_key]), data_source)\n",
    "    return [item_info for item_info in item_filter]"
   ]
  },
  {
   "cell_type": "code",
   "execution_count": 23,
   "id": "0ba477b7-cf25-4d3c-9961-ee7bfb5050c5",
   "metadata": {},
   "outputs": [],
   "source": [
    "all_teams = get_all_teams_from_opendota()"
   ]
  },
  {
   "cell_type": "code",
   "execution_count": 24,
   "id": "4fe417c7-7b43-42d5-a40b-82479151f588",
   "metadata": {},
   "outputs": [
    {
     "data": {
      "text/plain": [
       "{'team_id': 350190,\n",
       " 'rating': 1403.13,\n",
       " 'wins': 1153,\n",
       " 'losses': 845,\n",
       " 'last_match_time': 1661607736,\n",
       " 'name': 'Fnatic',\n",
       " 'tag': 'Fnatic',\n",
       " 'logo_url': 'https://steamcdn-a.akamaihd.net/apps/dota2/images/team_logos/350190.png'}"
      ]
     },
     "execution_count": 24,
     "metadata": {},
     "output_type": "execute_result"
    }
   ],
   "source": [
    "x = search_item('fnatic', 'name', all_teams)\n",
    "x[0]"
   ]
  },
  {
   "cell_type": "code",
   "execution_count": 25,
   "id": "6b2b5cb0-1884-4fef-8535-7d3214860bb3",
   "metadata": {},
   "outputs": [],
   "source": [
    "def get_team_matches(team_id):\n",
    "    \n",
    "    response = requests.get(BASE_URL + TEAMS + '/' + str(team_id) + '/' + MATCHES)\n",
    "    print(response)\n",
    "\n",
    "    try:\n",
    "        team_data_json = json.loads(response.content.decode('utf-8'))\n",
    "\n",
    "    except requests.exceptions.Timeout:\n",
    "        print('request is taking too long to complete, possible timeout, getting old data from Firebase')\n",
    "\n",
    "    except requests.exceptions.RequestException as e:\n",
    "        raise SystemExit(e)\n",
    "    \n",
    "    else:\n",
    "        return team_data_json\n",
    "    \n",
    "    return 0"
   ]
  },
  {
   "cell_type": "code",
   "execution_count": 26,
   "id": "83244323-4c27-412b-ae70-3944780507a0",
   "metadata": {},
   "outputs": [
    {
     "name": "stdout",
     "output_type": "stream",
     "text": [
      "<Response [200]>\n"
     ]
    }
   ],
   "source": [
    "team_fnatic_matches = get_team_matches(350190)"
   ]
  },
  {
   "cell_type": "code",
   "execution_count": 27,
   "id": "e4fd55eb-fd2d-474b-81cb-2a2d72988c8b",
   "metadata": {},
   "outputs": [
    {
     "data": {
      "text/plain": [
       "2081"
      ]
     },
     "execution_count": 27,
     "metadata": {},
     "output_type": "execute_result"
    }
   ],
   "source": [
    "len(team_fnatic_matches)"
   ]
  },
  {
   "cell_type": "code",
   "execution_count": 28,
   "id": "f832bcae-5307-4640-89da-35f8e4a593b2",
   "metadata": {},
   "outputs": [
    {
     "name": "stdout",
     "output_type": "stream",
     "text": [
      "<Response [200]>\n"
     ]
    }
   ],
   "source": [
    "team_og_matches = get_team_matches(2586976)"
   ]
  },
  {
   "cell_type": "code",
   "execution_count": 29,
   "id": "45e7239e-b49c-404f-85c1-1663bfcb0c6d",
   "metadata": {},
   "outputs": [
    {
     "data": {
      "text/plain": [
       "1333"
      ]
     },
     "execution_count": 29,
     "metadata": {},
     "output_type": "execute_result"
    }
   ],
   "source": [
    "len(team_og_matches)"
   ]
  },
  {
   "cell_type": "markdown",
   "id": "61fb38ee-5400-415c-b051-dffb18bfb888",
   "metadata": {},
   "source": [
    "with open('team_og_matches.json', 'w', encoding='utf-8') as f:\n",
    "    json.dump(team_og_matches, f, ensure_ascii=False, indent=4)"
   ]
  },
  {
   "cell_type": "code",
   "execution_count": 30,
   "id": "a7fa8954-9ff2-48bd-88ac-32524e20b52c",
   "metadata": {},
   "outputs": [],
   "source": [
    "all_heroes = get_all_heroes_from_opendota()"
   ]
  },
  {
   "cell_type": "code",
   "execution_count": 31,
   "id": "b4566fac-5ab8-4de2-8680-bc836a132e65",
   "metadata": {},
   "outputs": [],
   "source": [
    "all_pro_players = get_all_pro_players_in_opendota()"
   ]
  },
  {
   "cell_type": "code",
   "execution_count": 32,
   "id": "39ba6a84-5169-405a-af68-a6945283dd84",
   "metadata": {},
   "outputs": [],
   "source": [
    "def match_outcome(radiant_win, radiant):\n",
    "    if ((radiant_win == False and radiant == False) or (radiant_win == True and radiant == True)):\n",
    "        return True\n",
    "    \n",
    "    elif ((radiant_win == True and radiant == False) or (radiant_win == False and radiant == True)):\n",
    "        return False"
   ]
  },
  {
   "cell_type": "code",
   "execution_count": 33,
   "id": "01cb7de6-3971-4875-9bd8-da7189a0f669",
   "metadata": {},
   "outputs": [],
   "source": [
    "# Convert the team matches json to a dataframe\n",
    "def team_matches_df(team_matches_json):\n",
    "    \n",
    "    all_matches_df = pd.DataFrame(data = [(datetime.fromtimestamp(item['start_time']).strftime('%Y-%m-%d %H:%M:%S'), \n",
    "                                                       item['opposing_team_name'],\n",
    "                                                       item['opposing_team_id'], \n",
    "                                                       item['league_name'],\n",
    "                                                       item['leagueid'],\n",
    "                                                       item['cluster'], \n",
    "                                                       item['radiant_win'],\n",
    "                                                       item['radiant'],\n",
    "                                                       item['duration'], \n",
    "                                                       item['match_id'],\n",
    "                                                       match_outcome(item['radiant_win'], item['radiant'])) for item in team_matches_json], \n",
    "                      columns = ['start_date', 'opposing_team_name', 'opposing_team_id', 'league_name', 'leagueid', 'cluster', 'radiant_win', 'radiant', 'duration', 'match_id', 'match_outcome'])\n",
    "    \n",
    "    return all_matches_df\n"
   ]
  },
  {
   "cell_type": "code",
   "execution_count": 34,
   "id": "3d4fef83-7c40-4f7e-af23-6b7c5ff26d25",
   "metadata": {},
   "outputs": [],
   "source": [
    "team_og_matches_df = team_matches_df(team_og_matches)"
   ]
  },
  {
   "cell_type": "code",
   "execution_count": 35,
   "id": "c59e943d-8d68-4edf-adc3-01594e4280bc",
   "metadata": {},
   "outputs": [
    {
     "data": {
      "text/plain": [
       "(1333, 11)"
      ]
     },
     "execution_count": 35,
     "metadata": {},
     "output_type": "execute_result"
    }
   ],
   "source": [
    "team_og_matches_df.shape"
   ]
  },
  {
   "cell_type": "code",
   "execution_count": 36,
   "id": "a143bf46-7e6c-4b61-9fd1-d20619eace19",
   "metadata": {},
   "outputs": [
    {
     "data": {
      "text/html": [
       "<div>\n",
       "<style scoped>\n",
       "    .dataframe tbody tr th:only-of-type {\n",
       "        vertical-align: middle;\n",
       "    }\n",
       "\n",
       "    .dataframe tbody tr th {\n",
       "        vertical-align: top;\n",
       "    }\n",
       "\n",
       "    .dataframe thead th {\n",
       "        text-align: right;\n",
       "    }\n",
       "</style>\n",
       "<table border=\"1\" class=\"dataframe\">\n",
       "  <thead>\n",
       "    <tr style=\"text-align: right;\">\n",
       "      <th></th>\n",
       "      <th>start_date</th>\n",
       "      <th>opposing_team_name</th>\n",
       "      <th>opposing_team_id</th>\n",
       "      <th>league_name</th>\n",
       "      <th>leagueid</th>\n",
       "      <th>cluster</th>\n",
       "      <th>radiant_win</th>\n",
       "      <th>radiant</th>\n",
       "      <th>duration</th>\n",
       "      <th>match_id</th>\n",
       "      <th>match_outcome</th>\n",
       "    </tr>\n",
       "  </thead>\n",
       "  <tbody>\n",
       "    <tr>\n",
       "      <th>1328</th>\n",
       "      <td>2015-11-04 04:50:57</td>\n",
       "      <td>MONKEY FREEDOM FIGHTERS</td>\n",
       "      <td>758797</td>\n",
       "      <td>ASUS ROG DreamLeague Season 4</td>\n",
       "      <td>3865</td>\n",
       "      <td>133</td>\n",
       "      <td>True</td>\n",
       "      <td>True</td>\n",
       "      <td>1423</td>\n",
       "      <td>1912135868</td>\n",
       "      <td>True</td>\n",
       "    </tr>\n",
       "    <tr>\n",
       "      <th>1329</th>\n",
       "      <td>2015-11-03 08:09:58</td>\n",
       "      <td>Mamas-Boys</td>\n",
       "      <td>2276247</td>\n",
       "      <td>ASUS ROG DreamLeague Season 4</td>\n",
       "      <td>3865</td>\n",
       "      <td>138</td>\n",
       "      <td>True</td>\n",
       "      <td>True</td>\n",
       "      <td>1092</td>\n",
       "      <td>1910208777</td>\n",
       "      <td>True</td>\n",
       "    </tr>\n",
       "    <tr>\n",
       "      <th>1330</th>\n",
       "      <td>2015-11-03 07:00:03</td>\n",
       "      <td>Mamas-Boys</td>\n",
       "      <td>2276247</td>\n",
       "      <td>ASUS ROG DreamLeague Season 4</td>\n",
       "      <td>3865</td>\n",
       "      <td>133</td>\n",
       "      <td>True</td>\n",
       "      <td>True</td>\n",
       "      <td>2464</td>\n",
       "      <td>1910121231</td>\n",
       "      <td>True</td>\n",
       "    </tr>\n",
       "    <tr>\n",
       "      <th>1331</th>\n",
       "      <td>2015-11-03 03:56:42</td>\n",
       "      <td>STARK.gg</td>\n",
       "      <td>1804536</td>\n",
       "      <td>StarLadder | i-League</td>\n",
       "      <td>3902</td>\n",
       "      <td>138</td>\n",
       "      <td>True</td>\n",
       "      <td>True</td>\n",
       "      <td>1059</td>\n",
       "      <td>1909825881</td>\n",
       "      <td>True</td>\n",
       "    </tr>\n",
       "    <tr>\n",
       "      <th>1332</th>\n",
       "      <td>2015-11-03 03:04:50</td>\n",
       "      <td>STARK.gg</td>\n",
       "      <td>1804536</td>\n",
       "      <td>StarLadder | i-League</td>\n",
       "      <td>3902</td>\n",
       "      <td>133</td>\n",
       "      <td>True</td>\n",
       "      <td>True</td>\n",
       "      <td>1517</td>\n",
       "      <td>1909728487</td>\n",
       "      <td>True</td>\n",
       "    </tr>\n",
       "  </tbody>\n",
       "</table>\n",
       "</div>"
      ],
      "text/plain": [
       "               start_date       opposing_team_name  opposing_team_id  \\\n",
       "1328  2015-11-04 04:50:57  MONKEY FREEDOM FIGHTERS            758797   \n",
       "1329  2015-11-03 08:09:58               Mamas-Boys           2276247   \n",
       "1330  2015-11-03 07:00:03               Mamas-Boys           2276247   \n",
       "1331  2015-11-03 03:56:42                 STARK.gg           1804536   \n",
       "1332  2015-11-03 03:04:50                 STARK.gg           1804536   \n",
       "\n",
       "                        league_name  leagueid  cluster  radiant_win  radiant  \\\n",
       "1328  ASUS ROG DreamLeague Season 4      3865      133         True     True   \n",
       "1329  ASUS ROG DreamLeague Season 4      3865      138         True     True   \n",
       "1330  ASUS ROG DreamLeague Season 4      3865      133         True     True   \n",
       "1331          StarLadder | i-League      3902      138         True     True   \n",
       "1332          StarLadder | i-League      3902      133         True     True   \n",
       "\n",
       "      duration    match_id  match_outcome  \n",
       "1328      1423  1912135868           True  \n",
       "1329      1092  1910208777           True  \n",
       "1330      2464  1910121231           True  \n",
       "1331      1059  1909825881           True  \n",
       "1332      1517  1909728487           True  "
      ]
     },
     "execution_count": 36,
     "metadata": {},
     "output_type": "execute_result"
    }
   ],
   "source": [
    "team_og_matches_df.tail()"
   ]
  },
  {
   "cell_type": "code",
   "execution_count": 37,
   "id": "aabecb50-c04a-4a8e-9736-aeed80c7c780",
   "metadata": {},
   "outputs": [],
   "source": [
    "team_fnatic_matches = team_matches_df(team_fnatic_matches)"
   ]
  },
  {
   "cell_type": "code",
   "execution_count": 38,
   "id": "9d088bcd-ec26-4830-8061-ebe27ed9f0da",
   "metadata": {},
   "outputs": [
    {
     "data": {
      "text/html": [
       "<div>\n",
       "<style scoped>\n",
       "    .dataframe tbody tr th:only-of-type {\n",
       "        vertical-align: middle;\n",
       "    }\n",
       "\n",
       "    .dataframe tbody tr th {\n",
       "        vertical-align: top;\n",
       "    }\n",
       "\n",
       "    .dataframe thead th {\n",
       "        text-align: right;\n",
       "    }\n",
       "</style>\n",
       "<table border=\"1\" class=\"dataframe\">\n",
       "  <thead>\n",
       "    <tr style=\"text-align: right;\">\n",
       "      <th></th>\n",
       "      <th>start_date</th>\n",
       "      <th>opposing_team_name</th>\n",
       "      <th>opposing_team_id</th>\n",
       "      <th>league_name</th>\n",
       "      <th>leagueid</th>\n",
       "      <th>cluster</th>\n",
       "      <th>radiant_win</th>\n",
       "      <th>radiant</th>\n",
       "      <th>duration</th>\n",
       "      <th>match_id</th>\n",
       "      <th>match_outcome</th>\n",
       "    </tr>\n",
       "  </thead>\n",
       "  <tbody>\n",
       "    <tr>\n",
       "      <th>2076</th>\n",
       "      <td>2013-02-17 04:59:50</td>\n",
       "      <td>Team Empire</td>\n",
       "      <td>46</td>\n",
       "      <td>RaidCall Dota 2 League Season 2</td>\n",
       "      <td>22</td>\n",
       "      <td>181</td>\n",
       "      <td>True</td>\n",
       "      <td>False</td>\n",
       "      <td>2689</td>\n",
       "      <td>127380209</td>\n",
       "      <td>False</td>\n",
       "    </tr>\n",
       "    <tr>\n",
       "      <th>2077</th>\n",
       "      <td>2013-02-17 04:19:54</td>\n",
       "      <td>Team Empire</td>\n",
       "      <td>46</td>\n",
       "      <td>RaidCall Dota 2 League Season 2</td>\n",
       "      <td>22</td>\n",
       "      <td>181</td>\n",
       "      <td>True</td>\n",
       "      <td>True</td>\n",
       "      <td>898</td>\n",
       "      <td>127335245</td>\n",
       "      <td>True</td>\n",
       "    </tr>\n",
       "    <tr>\n",
       "      <th>2078</th>\n",
       "      <td>2013-02-15 08:25:19</td>\n",
       "      <td>Natus Vincere</td>\n",
       "      <td>36</td>\n",
       "      <td>The Defense 3</td>\n",
       "      <td>21</td>\n",
       "      <td>191</td>\n",
       "      <td>False</td>\n",
       "      <td>False</td>\n",
       "      <td>2214</td>\n",
       "      <td>125548077</td>\n",
       "      <td>True</td>\n",
       "    </tr>\n",
       "    <tr>\n",
       "      <th>2079</th>\n",
       "      <td>2013-02-15 07:41:12</td>\n",
       "      <td>Natus Vincere</td>\n",
       "      <td>36</td>\n",
       "      <td>The Defense 3</td>\n",
       "      <td>21</td>\n",
       "      <td>191</td>\n",
       "      <td>False</td>\n",
       "      <td>False</td>\n",
       "      <td>1431</td>\n",
       "      <td>125525847</td>\n",
       "      <td>True</td>\n",
       "    </tr>\n",
       "    <tr>\n",
       "      <th>2080</th>\n",
       "      <td>2013-02-15 06:41:52</td>\n",
       "      <td>Natus Vincere</td>\n",
       "      <td>36</td>\n",
       "      <td>The Defense 3</td>\n",
       "      <td>21</td>\n",
       "      <td>191</td>\n",
       "      <td>False</td>\n",
       "      <td>True</td>\n",
       "      <td>2611</td>\n",
       "      <td>125486981</td>\n",
       "      <td>False</td>\n",
       "    </tr>\n",
       "  </tbody>\n",
       "</table>\n",
       "</div>"
      ],
      "text/plain": [
       "               start_date opposing_team_name  opposing_team_id  \\\n",
       "2076  2013-02-17 04:59:50        Team Empire                46   \n",
       "2077  2013-02-17 04:19:54        Team Empire                46   \n",
       "2078  2013-02-15 08:25:19      Natus Vincere                36   \n",
       "2079  2013-02-15 07:41:12      Natus Vincere                36   \n",
       "2080  2013-02-15 06:41:52      Natus Vincere                36   \n",
       "\n",
       "                          league_name  leagueid  cluster  radiant_win  \\\n",
       "2076  RaidCall Dota 2 League Season 2        22      181         True   \n",
       "2077  RaidCall Dota 2 League Season 2        22      181         True   \n",
       "2078                    The Defense 3        21      191        False   \n",
       "2079                    The Defense 3        21      191        False   \n",
       "2080                    The Defense 3        21      191        False   \n",
       "\n",
       "      radiant  duration   match_id  match_outcome  \n",
       "2076    False      2689  127380209          False  \n",
       "2077     True       898  127335245           True  \n",
       "2078    False      2214  125548077           True  \n",
       "2079    False      1431  125525847           True  \n",
       "2080     True      2611  125486981          False  "
      ]
     },
     "execution_count": 38,
     "metadata": {},
     "output_type": "execute_result"
    }
   ],
   "source": [
    "team_fnatic_matches.tail()"
   ]
  },
  {
   "cell_type": "code",
   "execution_count": 39,
   "id": "2a366fed-f601-4875-8e55-80eab8ced598",
   "metadata": {},
   "outputs": [],
   "source": [
    "og_v_fnatic_match_info = get_match_info(6720651873)"
   ]
  },
  {
   "cell_type": "code",
   "execution_count": 40,
   "id": "bc93e45c-3be1-4869-a878-7b27ee977d24",
   "metadata": {},
   "outputs": [
    {
     "data": {
      "text/plain": [
       "46"
      ]
     },
     "execution_count": 40,
     "metadata": {},
     "output_type": "execute_result"
    }
   ],
   "source": [
    "len(og_v_fnatic_match_info)"
   ]
  },
  {
   "cell_type": "code",
   "execution_count": 41,
   "id": "41b7373b-f798-45c4-8f4b-89d2f26b4231",
   "metadata": {},
   "outputs": [
    {
     "name": "stdout",
     "output_type": "stream",
     "text": [
      "match_id\n",
      "barracks_status_dire\n",
      "barracks_status_radiant\n",
      "chat\n",
      "cluster\n",
      "cosmetics\n",
      "dire_score\n",
      "dire_team_id\n",
      "draft_timings\n",
      "duration\n",
      "engine\n",
      "first_blood_time\n",
      "game_mode\n",
      "human_players\n",
      "leagueid\n",
      "lobby_type\n",
      "match_seq_num\n",
      "negative_votes\n",
      "objectives\n",
      "picks_bans\n",
      "positive_votes\n",
      "radiant_gold_adv\n",
      "radiant_score\n",
      "radiant_team_id\n",
      "radiant_win\n",
      "radiant_xp_adv\n",
      "skill\n",
      "start_time\n",
      "teamfights\n",
      "tower_status_dire\n",
      "tower_status_radiant\n",
      "version\n",
      "replay_salt\n",
      "series_id\n",
      "series_type\n",
      "league\n",
      "radiant_team\n",
      "dire_team\n",
      "players\n",
      "patch\n",
      "region\n",
      "all_word_counts\n",
      "my_word_counts\n",
      "throw\n",
      "loss\n",
      "replay_url\n"
     ]
    }
   ],
   "source": [
    "for key in og_v_fnatic_match_info:\n",
    "    print(key)"
   ]
  },
  {
   "cell_type": "code",
   "execution_count": 42,
   "id": "a93b6ea4-d462-4b36-aec3-386a70f400c9",
   "metadata": {},
   "outputs": [],
   "source": [
    "players = og_v_fnatic_match_info['players']"
   ]
  },
  {
   "cell_type": "code",
   "execution_count": 43,
   "id": "29a86ebd-a1fa-429a-a12e-e5db3b378bd8",
   "metadata": {},
   "outputs": [
    {
     "data": {
      "text/plain": [
       "['match_id',\n",
       " 'player_slot',\n",
       " 'ability_targets',\n",
       " 'ability_upgrades_arr',\n",
       " 'ability_uses',\n",
       " 'account_id',\n",
       " 'actions',\n",
       " 'additional_units',\n",
       " 'assists',\n",
       " 'backpack_0',\n",
       " 'backpack_1',\n",
       " 'backpack_2',\n",
       " 'backpack_3',\n",
       " 'buyback_log',\n",
       " 'camps_stacked',\n",
       " 'connection_log',\n",
       " 'creeps_stacked',\n",
       " 'damage',\n",
       " 'damage_inflictor',\n",
       " 'damage_inflictor_received',\n",
       " 'damage_taken',\n",
       " 'damage_targets',\n",
       " 'deaths',\n",
       " 'denies',\n",
       " 'dn_t',\n",
       " 'firstblood_claimed',\n",
       " 'gold',\n",
       " 'gold_per_min',\n",
       " 'gold_reasons',\n",
       " 'gold_spent',\n",
       " 'gold_t',\n",
       " 'hero_damage',\n",
       " 'hero_healing',\n",
       " 'hero_hits',\n",
       " 'hero_id',\n",
       " 'item_0',\n",
       " 'item_1',\n",
       " 'item_2',\n",
       " 'item_3',\n",
       " 'item_4',\n",
       " 'item_5',\n",
       " 'item_neutral',\n",
       " 'item_uses',\n",
       " 'kill_streaks',\n",
       " 'killed',\n",
       " 'killed_by',\n",
       " 'kills',\n",
       " 'kills_log',\n",
       " 'lane_pos',\n",
       " 'last_hits',\n",
       " 'leaver_status',\n",
       " 'level',\n",
       " 'lh_t',\n",
       " 'life_state',\n",
       " 'max_hero_hit',\n",
       " 'multi_kills',\n",
       " 'net_worth',\n",
       " 'obs',\n",
       " 'obs_left_log',\n",
       " 'obs_log',\n",
       " 'obs_placed',\n",
       " 'party_id',\n",
       " 'party_size',\n",
       " 'performance_others',\n",
       " 'permanent_buffs',\n",
       " 'pings',\n",
       " 'pred_vict',\n",
       " 'purchase',\n",
       " 'purchase_log',\n",
       " 'randomed',\n",
       " 'repicked',\n",
       " 'roshans_killed',\n",
       " 'rune_pickups',\n",
       " 'runes',\n",
       " 'runes_log',\n",
       " 'sen',\n",
       " 'sen_left_log',\n",
       " 'sen_log',\n",
       " 'sen_placed',\n",
       " 'stuns',\n",
       " 'teamfight_participation',\n",
       " 'times',\n",
       " 'tower_damage',\n",
       " 'towers_killed',\n",
       " 'xp_per_min',\n",
       " 'xp_reasons',\n",
       " 'xp_t',\n",
       " 'personaname',\n",
       " 'name',\n",
       " 'last_login',\n",
       " 'radiant_win',\n",
       " 'start_time',\n",
       " 'duration',\n",
       " 'cluster',\n",
       " 'lobby_type',\n",
       " 'game_mode',\n",
       " 'is_contributor',\n",
       " 'patch',\n",
       " 'region',\n",
       " 'isRadiant',\n",
       " 'win',\n",
       " 'lose',\n",
       " 'total_gold',\n",
       " 'total_xp',\n",
       " 'kills_per_min',\n",
       " 'kda',\n",
       " 'abandons',\n",
       " 'neutral_kills',\n",
       " 'tower_kills',\n",
       " 'courier_kills',\n",
       " 'lane_kills',\n",
       " 'hero_kills',\n",
       " 'observer_kills',\n",
       " 'sentry_kills',\n",
       " 'roshan_kills',\n",
       " 'necronomicon_kills',\n",
       " 'ancient_kills',\n",
       " 'buyback_count',\n",
       " 'observer_uses',\n",
       " 'sentry_uses',\n",
       " 'lane_efficiency',\n",
       " 'lane_efficiency_pct',\n",
       " 'lane',\n",
       " 'lane_role',\n",
       " 'is_roaming',\n",
       " 'purchase_time',\n",
       " 'first_purchase_time',\n",
       " 'item_win',\n",
       " 'item_usage',\n",
       " 'purchase_tpscroll',\n",
       " 'actions_per_min',\n",
       " 'life_state_dead',\n",
       " 'rank_tier',\n",
       " 'is_subscriber',\n",
       " 'cosmetics',\n",
       " 'benchmarks']"
      ]
     },
     "execution_count": 43,
     "metadata": {},
     "output_type": "execute_result"
    }
   ],
   "source": [
    "[p_keys for p_keys in players[0]]"
   ]
  },
  {
   "cell_type": "code",
   "execution_count": 44,
   "id": "a1f8fe4d-84cc-4fde-894d-efc523ffd158",
   "metadata": {},
   "outputs": [
    {
     "name": "stdout",
     "output_type": "stream",
     "text": [
      "AMMAR_THE_F 3 3 183719386\n",
      "bzm 2 2 93618577\n",
      "Yuragi 1 1 167976729\n",
      "Chu 1 1 117483894\n",
      "Taiga 3 3 401792574\n"
     ]
    }
   ],
   "source": [
    "for i in range(5):\n",
    "    \n",
    "    print(players[i]['name'], players[i]['lane_role'], players[i]['lane'], players[i]['account_id'])"
   ]
  },
  {
   "cell_type": "code",
   "execution_count": null,
   "id": "53e8604f-cfce-4c03-850c-b87412159ffc",
   "metadata": {},
   "outputs": [],
   "source": []
  },
  {
   "cell_type": "code",
   "execution_count": 45,
   "id": "00b30fc9-e09d-4fd7-b41a-2ea5b00c542c",
   "metadata": {},
   "outputs": [],
   "source": [
    "def get_team_players(team_id):\n",
    "    response = requests.get(BASE_URL + TEAMS + '/' + str(team_id) + '/' + PLAYERS)\n",
    "    print(response)\n",
    "\n",
    "    try:\n",
    "        team_data_json = json.loads(response.content.decode('utf-8'))\n",
    "\n",
    "    except requests.exceptions.Timeout:\n",
    "        print('request is taking too long to complete, possible timeout, getting old data from Firebase')\n",
    "\n",
    "    except requests.exceptions.RequestException as e:\n",
    "        raise SystemExit(e)\n",
    "    \n",
    "    else:\n",
    "        return team_data_json\n",
    "    \n",
    "    return 0"
   ]
  },
  {
   "cell_type": "code",
   "execution_count": 46,
   "id": "47b9150d-d141-41df-97dc-32bce4ee6f68",
   "metadata": {},
   "outputs": [
    {
     "name": "stdout",
     "output_type": "stream",
     "text": [
      "<Response [200]>\n"
     ]
    }
   ],
   "source": [
    "team_og_players = get_team_players(2586976)"
   ]
  },
  {
   "cell_type": "code",
   "execution_count": 47,
   "id": "c34c6901-9976-4d33-8613-2347fd670996",
   "metadata": {},
   "outputs": [
    {
     "data": {
      "text/plain": [
       "{'account_id': 19672354,\n",
       " 'name': 'N0tail',\n",
       " 'games_played': 1150,\n",
       " 'wins': 709,\n",
       " 'is_current_team_member': False}"
      ]
     },
     "execution_count": 47,
     "metadata": {},
     "output_type": "execute_result"
    }
   ],
   "source": [
    "team_og_players[0]"
   ]
  },
  {
   "cell_type": "code",
   "execution_count": 48,
   "id": "eaed3857-1b0d-4716-b147-dc57cd0dc427",
   "metadata": {},
   "outputs": [],
   "source": [
    "player = search_item('ana', 'name', all_pro_players)"
   ]
  },
  {
   "cell_type": "code",
   "execution_count": 49,
   "id": "fd646a4c-9a14-4bc6-9345-13f9fb95ee0b",
   "metadata": {},
   "outputs": [
    {
     "data": {
      "text/plain": [
       "[{'id': 74,\n",
       "  'name': 'npc_dota_hero_invoker',\n",
       "  'localized_name': 'Invoker',\n",
       "  'primary_attr': 'int',\n",
       "  'attack_type': 'Ranged',\n",
       "  'roles': ['Carry', 'Nuker', 'Disabler', 'Escape', 'Pusher'],\n",
       "  'legs': 2}]"
      ]
     },
     "execution_count": 49,
     "metadata": {},
     "output_type": "execute_result"
    }
   ],
   "source": [
    "[item for item in all_heroes if item['id'] == 74]"
   ]
  },
  {
   "cell_type": "code",
   "execution_count": 50,
   "id": "0d5b92c1-3512-45fd-aa91-d6be8de1d499",
   "metadata": {},
   "outputs": [],
   "source": [
    "ana_account_id = 311360822"
   ]
  },
  {
   "cell_type": "code",
   "execution_count": 51,
   "id": "adc75c17-8e00-4a85-a34a-f3c5cec6f278",
   "metadata": {},
   "outputs": [
    {
     "data": {
      "text/plain": [
       "[{'account_id': 70388657,\n",
       "  'steamid': '76561198030654385',\n",
       "  'avatar': 'https://avatars.akamai.steamstatic.com/a1e7773eb1140703253265df18c608ec3e91531e.jpg',\n",
       "  'avatarmedium': 'https://avatars.akamai.steamstatic.com/a1e7773eb1140703253265df18c608ec3e91531e_medium.jpg',\n",
       "  'avatarfull': 'https://avatars.akamai.steamstatic.com/a1e7773eb1140703253265df18c608ec3e91531e_full.jpg',\n",
       "  'profileurl': 'https://steamcommunity.com/id/DendiQ/',\n",
       "  'personaname': 'Dendalf',\n",
       "  'last_login': None,\n",
       "  'full_history_time': '2022-08-26T04:02:26.789Z',\n",
       "  'cheese': 0,\n",
       "  'fh_unavailable': False,\n",
       "  'loccountrycode': 'UA',\n",
       "  'last_match_time': '2022-08-28T00:12:37.000Z',\n",
       "  'plus': True,\n",
       "  'name': 'Dendi',\n",
       "  'country_code': '',\n",
       "  'fantasy_role': 4,\n",
       "  'team_id': 8359896,\n",
       "  'team_name': 'B8',\n",
       "  'team_tag': 'B8',\n",
       "  'is_locked': True,\n",
       "  'is_pro': True,\n",
       "  'locked_until': None}]"
      ]
     },
     "execution_count": 51,
     "metadata": {},
     "output_type": "execute_result"
    }
   ],
   "source": [
    "[item for item in all_pro_players if item['account_id'] == 70388657]"
   ]
  },
  {
   "cell_type": "code",
   "execution_count": 52,
   "id": "f110db27-25bf-4905-8107-38e0a72478a2",
   "metadata": {},
   "outputs": [],
   "source": [
    "all_heroes_stats = get_all_heroes_stats()"
   ]
  },
  {
   "cell_type": "code",
   "execution_count": 53,
   "id": "79750d91-284a-40b8-8db7-3dd4961f16e3",
   "metadata": {},
   "outputs": [
    {
     "data": {
      "text/plain": [
       "{'id': 1,\n",
       " 'name': 'npc_dota_hero_antimage',\n",
       " 'localized_name': 'Anti-Mage',\n",
       " 'primary_attr': 'agi',\n",
       " 'attack_type': 'Melee',\n",
       " 'roles': ['Carry', 'Escape', 'Nuker'],\n",
       " 'img': '/apps/dota2/images/dota_react/heroes/antimage.png?',\n",
       " 'icon': '/apps/dota2/images/dota_react/heroes/icons/antimage.png?',\n",
       " 'base_health': 200,\n",
       " 'base_health_regen': 0.25,\n",
       " 'base_mana': 75,\n",
       " 'base_mana_regen': 0,\n",
       " 'base_armor': 0,\n",
       " 'base_mr': 25,\n",
       " 'base_attack_min': 29,\n",
       " 'base_attack_max': 33,\n",
       " 'base_str': 21,\n",
       " 'base_agi': 24,\n",
       " 'base_int': 12,\n",
       " 'str_gain': 1.6,\n",
       " 'agi_gain': 2.8,\n",
       " 'int_gain': 1.8,\n",
       " 'attack_range': 150,\n",
       " 'projectile_speed': 0,\n",
       " 'attack_rate': 1.4,\n",
       " 'move_speed': 310,\n",
       " 'turn_rate': None,\n",
       " 'cm_enabled': True,\n",
       " 'legs': 2,\n",
       " 'hero_id': 1,\n",
       " 'turbo_picks': 404987,\n",
       " 'turbo_wins': 206578,\n",
       " 'pro_ban': 104,\n",
       " 'pro_win': 21,\n",
       " 'pro_pick': 44,\n",
       " '1_pick': 21033,\n",
       " '1_win': 10218,\n",
       " '2_pick': 41847,\n",
       " '2_win': 20138,\n",
       " '3_pick': 41324,\n",
       " '3_win': 19869,\n",
       " '4_pick': 31777,\n",
       " '4_win': 14975,\n",
       " '5_pick': 16904,\n",
       " '5_win': 7973,\n",
       " '6_pick': 7068,\n",
       " '6_win': 3249,\n",
       " '7_pick': 2984,\n",
       " '7_win': 1348,\n",
       " '8_pick': 944,\n",
       " '8_win': 436,\n",
       " 'null_pick': 1842400,\n",
       " 'null_win': 0}"
      ]
     },
     "execution_count": 53,
     "metadata": {},
     "output_type": "execute_result"
    }
   ],
   "source": [
    "all_heroes_stats[0]"
   ]
  },
  {
   "cell_type": "markdown",
   "id": "4351c130-585b-4a16-b483-93f07ef6b6b6",
   "metadata": {},
   "source": [
    "# What makes a team win matches?\n",
    "\n",
    "-players? Team composition\n",
    "\n",
    "-draft pick? Hero composition\n",
    "\n",
    "-items? Item-Hero compatibility\n",
    "\n",
    "-time? Match duration"
   ]
  },
  {
   "cell_type": "markdown",
   "id": "0b8be67c-bb94-4625-9f50-3adf8f328fa8",
   "metadata": {},
   "source": [
    "# What makes a specific team win?"
   ]
  },
  {
   "cell_type": "markdown",
   "id": "0accd9fa-2d15-4aba-87ed-68aad0b3de1a",
   "metadata": {},
   "source": [
    "Since you can't include team names in the dataset, teams should be represented numerically with information that excludes historical match performance data (because new data pre-hero-draft won't include match data of course)\n",
    "\n",
    "The only way I can think of is to use that specific match's player's historical performance data leading up to that match as a representation of the teams e.g. \n",
    "\n",
    "Team OG Matches from 2015:\n",
    "\n",
    "\t    start_date\t        opposing_team_name\t    opposing_team_id\tleague_name\tleagueid\t        cluster\tradiant_win\tradiant\tduration\tmatch_id\tmatch_outcome\n",
    "        \n",
    "1328\t2015-11-04 04:50:57\tMONKEY FREEDOM FIGHTERS\t758797\t            ASUS ROG DreamLeague Season 4\t3865\t133\tTrue\tTrue\t1423\t1912135868\tTrue\n",
    "\n",
    "1329\t2015-11-03 08:09:58\tMamas-Boys\t            2276247\t            ASUS ROG DreamLeague Season 4\t3865\t138\tTrue\tTrue\t1092\t1910208777\tTrue\n",
    "\n",
    "For match id 1912135868, include all 5 player performance data from the lead up to that 2015 match and don't include future data beyond 2015 even if we have it!"
   ]
  },
  {
   "cell_type": "markdown",
   "id": "2a6a364f-b383-4aa5-8c94-f59b2597db46",
   "metadata": {},
   "source": [
    "# Figure out which metadata to use to quantify player performance\n",
    "\n",
    "e.g. lane efficiency, MMR, years experience, team cohesion"
   ]
  },
  {
   "cell_type": "markdown",
   "id": "ed172af5-6b49-42ee-aa6c-118b128f3306",
   "metadata": {},
   "source": [
    "# Figure out which metadata to use to quantify team performance\n",
    "\n",
    "e.g. team fight success rate, team brand goodwill? Team Rank"
   ]
  },
  {
   "cell_type": "code",
   "execution_count": 54,
   "id": "53899dde-3706-4e5b-9e1f-e686bb3f7d79",
   "metadata": {},
   "outputs": [],
   "source": [
    "opendota_api_info = get_opendota_api_info()"
   ]
  },
  {
   "cell_type": "code",
   "execution_count": null,
   "id": "dea2c35b-9a08-40c5-bc40-80159b74490d",
   "metadata": {},
   "outputs": [],
   "source": []
  }
 ],
 "metadata": {
  "kernelspec": {
   "display_name": "Python 3 (ipykernel)",
   "language": "python",
   "name": "python3"
  },
  "language_info": {
   "codemirror_mode": {
    "name": "ipython",
    "version": 3
   },
   "file_extension": ".py",
   "mimetype": "text/x-python",
   "name": "python",
   "nbconvert_exporter": "python",
   "pygments_lexer": "ipython3",
   "version": "3.10.6"
  }
 },
 "nbformat": 4,
 "nbformat_minor": 5
}
