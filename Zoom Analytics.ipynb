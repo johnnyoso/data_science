{
 "cells": [
  {
   "cell_type": "code",
   "execution_count": 204,
   "metadata": {},
   "outputs": [],
   "source": [
    "import pandas as pd\n",
    "import datetime"
   ]
  },
  {
   "cell_type": "markdown",
   "metadata": {},
   "source": [
    "# Zoom Data "
   ]
  },
  {
   "cell_type": "markdown",
   "metadata": {},
   "source": [
    "The Zoom data only stretches as far back as November 2020 so the data below is from November 2020 upto November 2, 2021"
   ]
  },
  {
   "cell_type": "code",
   "execution_count": 10,
   "metadata": {},
   "outputs": [],
   "source": [
    "#File Paths Zoom data\n",
    "nov_2020 = r'/Users/josorio/Downloads/meetings2020-11-01-2020-12-01.csv'\n",
    "dec_2020 = r'/Users/josorio/Downloads/meetings2020-12-02-2021-01-01.csv'\n",
    "jan_2021 = r'/Users/josorio/Downloads/meetings2021-01-02-2021-02-01.csv'\n",
    "feb_2021 = r'/Users/josorio/Downloads/meetings2021-02-02-2021-03-02.csv'\n",
    "mar_2021 = r'/Users/josorio/Downloads/meetings2021-03-03-2021-03-31.csv'\n",
    "apr_2021 = r'/Users/josorio/Downloads/meetings2021-04-01-2021-04-29.csv'\n",
    "may_2021 = r'/Users/josorio/Downloads/meetings2021-04-30-2021-05-29.csv'\n",
    "jun_2021 = r'/Users/josorio/Downloads/meetings2021-05-30-2021-06-27.csv'\n",
    "jul_2021 = r'/Users/josorio/Downloads/meetings2021-06-28-2021-07-26.csv'\n",
    "aug_2021 = r'/Users/josorio/Downloads/meetings2021-07-27-2021-08-24.csv'\n",
    "sep_2021 = r'/Users/josorio/Downloads/meetings2021-08-25-2021-09-22.csv'\n",
    "oct_2021 = r'/Users/josorio/Downloads/meetings2021-09-23-2021-10-22.csv'\n",
    "nov_2021 = r'/Users/josorio/Downloads/meetings2021-10-23-2021-11-21.csv'"
   ]
  },
  {
   "cell_type": "code",
   "execution_count": 11,
   "metadata": {},
   "outputs": [],
   "source": [
    "zoom_data_2021 = [nov_2020, dec_2020, jan_2021, feb_2021, mar_2021, apr_2021, may_2021, jun_2021,\n",
    "                 jul_2021, aug_2021, sep_2021, oct_2021, nov_2021]"
   ]
  },
  {
   "cell_type": "code",
   "execution_count": 26,
   "metadata": {},
   "outputs": [],
   "source": [
    "#Combine Zoom monthly data\n",
    "\n",
    "zoom_data_df = pd.DataFrame()\n",
    "\n",
    "for data in zoom_data_2021:\n",
    "    \n",
    "    temp_df = pd.read_csv(data)\n",
    "    \n",
    "    zoom_data_df = zoom_data_df.append(temp_df)\n",
    "\n",
    "zoom_data_df.reset_index(inplace = True)\n",
    "    "
   ]
  },
  {
   "cell_type": "markdown",
   "metadata": {},
   "source": [
    "We've had a total of 182,684 total meetings "
   ]
  },
  {
   "cell_type": "code",
   "execution_count": 110,
   "metadata": {},
   "outputs": [
    {
     "data": {
      "text/plain": [
       "(182684, 5)"
      ]
     },
     "execution_count": 110,
     "metadata": {},
     "output_type": "execute_result"
    }
   ],
   "source": [
    "zoom_data_df.shape"
   ]
  },
  {
   "cell_type": "markdown",
   "metadata": {},
   "source": [
    "Check what columns we have"
   ]
  },
  {
   "cell_type": "code",
   "execution_count": 28,
   "metadata": {},
   "outputs": [
    {
     "data": {
      "text/plain": [
       "Index(['index', 'Meeting ID', 'Topic', 'Host', 'Email', 'User Type',\n",
       "       'Department', 'Group', 'Start Time', 'End Time', 'Duration (hh:mm:ss)',\n",
       "       'Participants', '3rd Party ID', 'Host Data Center', 'Phone', 'VoIP',\n",
       "       '3rd Party Audio', 'Video', 'Screen Sharing', 'Recording', 'CRC',\n",
       "       'Encryption', 'Cipher', 'Unnamed: 22'],\n",
       "      dtype='object')"
      ]
     },
     "execution_count": 28,
     "metadata": {},
     "output_type": "execute_result"
    }
   ],
   "source": [
    "zoom_data_df.columns"
   ]
  },
  {
   "cell_type": "markdown",
   "metadata": {},
   "source": [
    "Let's only use the following columns and drop everything else"
   ]
  },
  {
   "cell_type": "code",
   "execution_count": 40,
   "metadata": {},
   "outputs": [],
   "source": [
    "zoom_data_df = zoom_data_df.loc[:, ('Host', 'Email', 'Start Time', 'End Time', 'Duration (hh:mm:ss)')]"
   ]
  },
  {
   "cell_type": "markdown",
   "metadata": {},
   "source": [
    "Sample dataframe"
   ]
  },
  {
   "cell_type": "code",
   "execution_count": 41,
   "metadata": {},
   "outputs": [
    {
     "data": {
      "text/html": [
       "<div>\n",
       "<style scoped>\n",
       "    .dataframe tbody tr th:only-of-type {\n",
       "        vertical-align: middle;\n",
       "    }\n",
       "\n",
       "    .dataframe tbody tr th {\n",
       "        vertical-align: top;\n",
       "    }\n",
       "\n",
       "    .dataframe thead th {\n",
       "        text-align: right;\n",
       "    }\n",
       "</style>\n",
       "<table border=\"1\" class=\"dataframe\">\n",
       "  <thead>\n",
       "    <tr style=\"text-align: right;\">\n",
       "      <th></th>\n",
       "      <th>Host</th>\n",
       "      <th>Email</th>\n",
       "      <th>Start Time</th>\n",
       "      <th>End Time</th>\n",
       "      <th>Duration (hh:mm:ss)</th>\n",
       "    </tr>\n",
       "  </thead>\n",
       "  <tbody>\n",
       "    <tr>\n",
       "      <th>0</th>\n",
       "      <td>Jason Hickey</td>\n",
       "      <td>jason@campaignmonitor.com</td>\n",
       "      <td>Nov 01, 2020 10:16 AM</td>\n",
       "      <td>11:13 AM</td>\n",
       "      <td>00:56:07</td>\n",
       "    </tr>\n",
       "    <tr>\n",
       "      <th>1</th>\n",
       "      <td>Danielle Tovell</td>\n",
       "      <td>dtovell@campaignmonitor.com</td>\n",
       "      <td>Nov 01, 2020 08:57 AM</td>\n",
       "      <td>09:18 AM</td>\n",
       "      <td>00:21:33</td>\n",
       "    </tr>\n",
       "    <tr>\n",
       "      <th>2</th>\n",
       "      <td>Sharon Strauss</td>\n",
       "      <td>sstrauss@campaignmonitor.com</td>\n",
       "      <td>Nov 01, 2020 07:31 AM</td>\n",
       "      <td>08:00 AM</td>\n",
       "      <td>00:29:21</td>\n",
       "    </tr>\n",
       "    <tr>\n",
       "      <th>3</th>\n",
       "      <td>Jesal Shah</td>\n",
       "      <td>jesals@campaignmonitor.com</td>\n",
       "      <td>Nov 01, 2020 05:55 AM</td>\n",
       "      <td>06:40 AM</td>\n",
       "      <td>00:44:35</td>\n",
       "    </tr>\n",
       "    <tr>\n",
       "      <th>4</th>\n",
       "      <td>Natalia Abal</td>\n",
       "      <td>nabal@liveclicker.com</td>\n",
       "      <td>Nov 01, 2020 04:53 AM</td>\n",
       "      <td>07:32 AM</td>\n",
       "      <td>02:39:30</td>\n",
       "    </tr>\n",
       "  </tbody>\n",
       "</table>\n",
       "</div>"
      ],
      "text/plain": [
       "              Host                         Email             Start Time  \\\n",
       "0     Jason Hickey     jason@campaignmonitor.com  Nov 01, 2020 10:16 AM   \n",
       "1  Danielle Tovell   dtovell@campaignmonitor.com  Nov 01, 2020 08:57 AM   \n",
       "2   Sharon Strauss  sstrauss@campaignmonitor.com  Nov 01, 2020 07:31 AM   \n",
       "3       Jesal Shah    jesals@campaignmonitor.com  Nov 01, 2020 05:55 AM   \n",
       "4     Natalia Abal         nabal@liveclicker.com  Nov 01, 2020 04:53 AM   \n",
       "\n",
       "   End Time Duration (hh:mm:ss)  \n",
       "0  11:13 AM            00:56:07  \n",
       "1  09:18 AM            00:21:33  \n",
       "2  08:00 AM            00:29:21  \n",
       "3  06:40 AM            00:44:35  \n",
       "4  07:32 AM            02:39:30  "
      ]
     },
     "execution_count": 41,
     "metadata": {},
     "output_type": "execute_result"
    }
   ],
   "source": [
    "zoom_data_df.head()"
   ]
  },
  {
   "cell_type": "markdown",
   "metadata": {},
   "source": [
    "# Okta Directory"
   ]
  },
  {
   "cell_type": "code",
   "execution_count": 104,
   "metadata": {},
   "outputs": [],
   "source": [
    "first = r'/Users/josorio/Downloads/first.json'\n",
    "second = r'/Users/josorio/Downloads/second.json'\n",
    "third = r'/Users/josorio/Downloads/third.json'\n",
    "fourth = r'/Users/josorio/Downloads/fourth.json'\n",
    "fifth = r'/Users/josorio/Downloads/fifth.json'\n",
    "sixth = r'/Users/josorio/Downloads/sixth.json'"
   ]
  },
  {
   "cell_type": "code",
   "execution_count": 105,
   "metadata": {},
   "outputs": [],
   "source": [
    "okta_data = [first, second, third, fourth, fifth, sixth]"
   ]
  },
  {
   "cell_type": "code",
   "execution_count": 107,
   "metadata": {},
   "outputs": [],
   "source": [
    "#Combine Okta data\n",
    "\n",
    "okta_df = pd.DataFrame()\n",
    "\n",
    "for data in okta_data:\n",
    "    \n",
    "    temp_df = pd.read_json(data)\n",
    "    okta_df = okta_df.append(temp_df)\n",
    "\n",
    "okta_df.reset_index(inplace = True)"
   ]
  },
  {
   "cell_type": "code",
   "execution_count": 108,
   "metadata": {},
   "outputs": [
    {
     "data": {
      "text/plain": [
       "(1091, 13)"
      ]
     },
     "execution_count": 108,
     "metadata": {},
     "output_type": "execute_result"
    }
   ],
   "source": [
    "okta_df.shape"
   ]
  },
  {
   "cell_type": "code",
   "execution_count": 111,
   "metadata": {},
   "outputs": [
    {
     "data": {
      "text/plain": [
       "Index(['index', '_links', 'activated', 'created', 'credentials', 'id',\n",
       "       'lastLogin', 'lastUpdated', 'passwordChanged', 'profile', 'status',\n",
       "       'statusChanged', 'type'],\n",
       "      dtype='object')"
      ]
     },
     "execution_count": 111,
     "metadata": {},
     "output_type": "execute_result"
    }
   ],
   "source": [
    "okta_df.columns"
   ]
  },
  {
   "cell_type": "code",
   "execution_count": 112,
   "metadata": {},
   "outputs": [],
   "source": [
    "okta_df = okta_df.loc[:, ('profile', 'status')]"
   ]
  },
  {
   "cell_type": "markdown",
   "metadata": {},
   "source": [
    "Make sure to only include ACTIVE users"
   ]
  },
  {
   "cell_type": "code",
   "execution_count": 149,
   "metadata": {},
   "outputs": [],
   "source": [
    "okta_df = okta_df[okta_df.status == 'ACTIVE']"
   ]
  },
  {
   "cell_type": "markdown",
   "metadata": {},
   "source": [
    "So far we have 1049 active users in Okta currently"
   ]
  },
  {
   "cell_type": "code",
   "execution_count": 163,
   "metadata": {},
   "outputs": [
    {
     "data": {
      "text/plain": [
       "(1049, 2)"
      ]
     },
     "execution_count": 163,
     "metadata": {},
     "output_type": "execute_result"
    }
   ],
   "source": [
    "okta_df.shape"
   ]
  },
  {
   "cell_type": "markdown",
   "metadata": {},
   "source": [
    "Get the Emma and CM users based on what's on their costCenter attribute (either Emma, Inc or Campaign Monitor pty)"
   ]
  },
  {
   "cell_type": "code",
   "execution_count": 211,
   "metadata": {},
   "outputs": [
    {
     "name": "stdout",
     "output_type": "stream",
     "text": [
      "rmurray@campaignmonitor.com\n",
      "Emma, Inc.\n"
     ]
    }
   ],
   "source": [
    "#Sample input\n",
    "\n",
    "x = okta_df[0:1].profile\n",
    "for i in x:\n",
    "    print(i['email'])\n",
    "    print(i['costCenter'])"
   ]
  },
  {
   "cell_type": "code",
   "execution_count": 159,
   "metadata": {},
   "outputs": [],
   "source": [
    "emma_users = []\n",
    "cm_users = []\n",
    "error_users = []\n",
    "\n",
    "for index, row in okta_df.iterrows():\n",
    "    \n",
    "    user_profile = row.profile\n",
    "    user_email = user_profile['email']\n",
    "    \n",
    "    try:\n",
    "        cost_center = user_profile['costCenter']\n",
    "\n",
    "        if 'Emma' in cost_center:\n",
    "            emma_users.append(user_email)\n",
    "\n",
    "        elif 'Campaign' in cost_center:\n",
    "            cm_users.append(user_email)\n",
    "    except:\n",
    "        error_users.append(user_email)\n",
    "        "
   ]
  },
  {
   "cell_type": "markdown",
   "metadata": {},
   "source": [
    "Number of Emma Users"
   ]
  },
  {
   "cell_type": "code",
   "execution_count": 160,
   "metadata": {},
   "outputs": [
    {
     "data": {
      "text/plain": [
       "218"
      ]
     },
     "execution_count": 160,
     "metadata": {},
     "output_type": "execute_result"
    }
   ],
   "source": [
    "len(emma_users)"
   ]
  },
  {
   "cell_type": "markdown",
   "metadata": {},
   "source": [
    "Number of CM Users"
   ]
  },
  {
   "cell_type": "code",
   "execution_count": 161,
   "metadata": {},
   "outputs": [
    {
     "data": {
      "text/plain": [
       "138"
      ]
     },
     "execution_count": 161,
     "metadata": {},
     "output_type": "execute_result"
    }
   ],
   "source": [
    "len(cm_users)"
   ]
  },
  {
   "cell_type": "markdown",
   "metadata": {},
   "source": [
    "# Determine the total meeting count and duration for CM and Emma"
   ]
  },
  {
   "cell_type": "markdown",
   "metadata": {},
   "source": [
    "This is a helper function that converts string values into DateTime"
   ]
  },
  {
   "cell_type": "code",
   "execution_count": 192,
   "metadata": {},
   "outputs": [],
   "source": [
    "def ReturnSeconds(duration):\n",
    "    \n",
    "    try:\n",
    "        date_time = datetime.datetime.strptime(duration, \"%H:%M:%S\")\n",
    "        a_timedelta = date_time - datetime.datetime(1900, 1, 1)\n",
    "        seconds = a_timedelta.total_seconds()\n",
    "\n",
    "        return seconds\n",
    "    \n",
    "    except:\n",
    "        return 0"
   ]
  },
  {
   "cell_type": "code",
   "execution_count": 193,
   "metadata": {},
   "outputs": [],
   "source": [
    "cm_meeting_count = 0\n",
    "cm_meeting_duration = 0\n",
    "\n",
    "emma_meeting_count = 0\n",
    "emma_meeting_duration = 0\n",
    "\n",
    "for index, row in zoom_data_df.iterrows():\n",
    "    \n",
    "    #check if the user is a CM user\n",
    "    if row.Email in cm_users:\n",
    "        \n",
    "        cm_meeting_count += 1\n",
    "        \n",
    "        #get the meeting duration\n",
    "        duration = row['Duration (hh:mm:ss)']\n",
    "        seconds = ReturnSeconds(duration)\n",
    "        \n",
    "        cm_meeting_duration += seconds\n",
    "    \n",
    "    #check if the user is an Emma user\n",
    "    if row.Email in emma_users:\n",
    "        \n",
    "        emma_meeting_count += 1\n",
    "        \n",
    "        #get the meeting duration\n",
    "        duration = row['Duration (hh:mm:ss)']\n",
    "        seconds = ReturnSeconds(duration)\n",
    "        \n",
    "        emma_meeting_duration += seconds"
   ]
  },
  {
   "cell_type": "markdown",
   "metadata": {},
   "source": [
    "# Total CM Meeting Count"
   ]
  },
  {
   "cell_type": "code",
   "execution_count": 194,
   "metadata": {},
   "outputs": [
    {
     "data": {
      "text/plain": [
       "20959"
      ]
     },
     "execution_count": 194,
     "metadata": {},
     "output_type": "execute_result"
    }
   ],
   "source": [
    "cm_meeting_count"
   ]
  },
  {
   "cell_type": "markdown",
   "metadata": {},
   "source": [
    "# Total Emma Meeting Count"
   ]
  },
  {
   "cell_type": "code",
   "execution_count": 195,
   "metadata": {},
   "outputs": [
    {
     "data": {
      "text/plain": [
       "38999"
      ]
     },
     "execution_count": 195,
     "metadata": {},
     "output_type": "execute_result"
    }
   ],
   "source": [
    "emma_meeting_count"
   ]
  },
  {
   "cell_type": "code",
   "execution_count": 196,
   "metadata": {},
   "outputs": [
    {
     "data": {
      "text/plain": [
       "50739170.0"
      ]
     },
     "execution_count": 196,
     "metadata": {},
     "output_type": "execute_result"
    }
   ],
   "source": [
    "#This is in seconds\n",
    "cm_meeting_duration"
   ]
  },
  {
   "cell_type": "code",
   "execution_count": 203,
   "metadata": {},
   "outputs": [
    {
     "data": {
      "text/plain": [
       "80218809.0"
      ]
     },
     "execution_count": 203,
     "metadata": {},
     "output_type": "execute_result"
    }
   ],
   "source": [
    "#This is in seconds\n",
    "emma_meeting_duration"
   ]
  },
  {
   "cell_type": "markdown",
   "metadata": {},
   "source": [
    "# Total CM Meeting Duration"
   ]
  },
  {
   "cell_type": "code",
   "execution_count": 197,
   "metadata": {},
   "outputs": [
    {
     "data": {
      "text/plain": [
       "'587 days, 6:12:50'"
      ]
     },
     "execution_count": 197,
     "metadata": {},
     "output_type": "execute_result"
    }
   ],
   "source": [
    "str(datetime.timedelta(seconds=cm_meeting_duration))"
   ]
  },
  {
   "cell_type": "markdown",
   "metadata": {},
   "source": [
    "# Total Emma Meeting Duration"
   ]
  },
  {
   "cell_type": "code",
   "execution_count": 198,
   "metadata": {},
   "outputs": [
    {
     "data": {
      "text/plain": [
       "'928 days, 11:00:09'"
      ]
     },
     "execution_count": 198,
     "metadata": {},
     "output_type": "execute_result"
    }
   ],
   "source": [
    "str(datetime.timedelta(seconds=emma_meeting_duration))"
   ]
  }
 ],
 "metadata": {
  "kernelspec": {
   "display_name": "Python 3",
   "language": "python",
   "name": "python3"
  },
  "language_info": {
   "codemirror_mode": {
    "name": "ipython",
    "version": 3
   },
   "file_extension": ".py",
   "mimetype": "text/x-python",
   "name": "python",
   "nbconvert_exporter": "python",
   "pygments_lexer": "ipython3",
   "version": "3.7.3"
  }
 },
 "nbformat": 4,
 "nbformat_minor": 2
}
